{
 "cells": [
  {
   "cell_type": "code",
   "execution_count": 1,
   "metadata": {},
   "outputs": [],
   "source": [
    "# Lab 9 XOR\n",
    "import torch"
   ]
  },
  {
   "cell_type": "code",
   "execution_count": 2,
   "metadata": {},
   "outputs": [],
   "source": [
    "device = 'cuda' if torch.cuda.is_available() else 'cpu'\n",
    "\n",
    "# for reproducibility\n",
    "torch.manual_seed(777)\n",
    "if device == 'cuda':\n",
    "    torch.cuda.manual_seed_all(777)"
   ]
  },
  {
   "cell_type": "code",
   "execution_count": 3,
   "metadata": {},
   "outputs": [],
   "source": [
    "X = torch.FloatTensor([[0, 0], [0, 1], [1, 0], [1, 1]]).to(device)\n",
    "Y = torch.FloatTensor([[0], [1], [1], [0]]).to(device)"
   ]
  },
  {
   "cell_type": "code",
   "execution_count": 4,
   "metadata": {},
   "outputs": [],
   "source": [
    "# nn layers\n",
    "linear1 = torch.nn.Linear(2, 10, bias=True)\n",
    "linear2 = torch.nn.Linear(10, 10, bias=True)\n",
    "linear3 = torch.nn.Linear(10, 10, bias=True)\n",
    "linear4 = torch.nn.Linear(10, 1, bias=True)\n",
    "sigmoid = torch.nn.Sigmoid()"
   ]
  },
  {
   "cell_type": "code",
   "execution_count": 5,
   "metadata": {},
   "outputs": [],
   "source": [
    "# model\n",
    "model = torch.nn.Sequential(linear1, sigmoid, linear2, sigmoid, linear3, sigmoid, linear4, sigmoid).to(device)"
   ]
  },
  {
   "cell_type": "code",
   "execution_count": 6,
   "metadata": {},
   "outputs": [],
   "source": [
    "# define cost/loss & optimizer\n",
    "criterion = torch.nn.BCELoss().to(device)\n",
    "optimizer = torch.optim.SGD(model.parameters(), lr=1)  # modified learning rate from 0.1 to 1"
   ]
  },
  {
   "cell_type": "code",
   "execution_count": 7,
   "metadata": {},
   "outputs": [
    {
     "name": "stdout",
     "output_type": "stream",
     "text": [
      "0 0.6948983669281006\n",
      "100 0.6931558847427368\n",
      "200 0.6931535005569458\n",
      "300 0.6931513547897339\n",
      "400 0.6931493282318115\n",
      "500 0.6931473016738892\n",
      "600 0.6931453943252563\n",
      "700 0.6931434869766235\n",
      "800 0.6931416988372803\n",
      "900 0.6931397914886475\n",
      "1000 0.6931380033493042\n",
      "1100 0.6931362152099609\n",
      "1200 0.6931343078613281\n",
      "1300 0.6931324005126953\n",
      "1400 0.6931304931640625\n",
      "1500 0.6931284666061401\n",
      "1600 0.6931264400482178\n",
      "1700 0.6931242942810059\n",
      "1800 0.6931220293045044\n",
      "1900 0.6931196451187134\n",
      "2000 0.6931171417236328\n",
      "2100 0.6931145191192627\n",
      "2200 0.6931115984916687\n",
      "2300 0.6931085586547852\n",
      "2400 0.693105161190033\n",
      "2500 0.6931014657020569\n",
      "2600 0.6930974721908569\n",
      "2700 0.6930930018424988\n",
      "2800 0.6930880546569824\n",
      "2900 0.6930825710296631\n",
      "3000 0.6930763125419617\n",
      "3100 0.6930692791938782\n",
      "3200 0.6930612325668335\n",
      "3300 0.6930519342422485\n",
      "3400 0.693041205406189\n",
      "3500 0.693028450012207\n",
      "3600 0.6930133104324341\n",
      "3700 0.6929951906204224\n",
      "3800 0.6929729580879211\n",
      "3900 0.6929453015327454\n",
      "4000 0.6929103136062622\n",
      "4100 0.6928650140762329\n",
      "4200 0.6928046941757202\n",
      "4300 0.6927220225334167\n",
      "4400 0.692604124546051\n",
      "4500 0.6924278736114502\n",
      "4600 0.692147970199585\n",
      "4700 0.6916665434837341\n",
      "4800 0.6907395720481873\n",
      "4900 0.6886204481124878\n",
      "5000 0.6820821762084961\n",
      "5100 0.6472558379173279\n",
      "5200 0.4495784044265747\n",
      "5300 0.041401054710149765\n",
      "5400 0.00973653607070446\n",
      "5500 0.0050338273867964745\n",
      "5600 0.00329551356844604\n",
      "5700 0.0024154414422810078\n",
      "5800 0.0018910930957645178\n",
      "5900 0.0015457704430446029\n",
      "6000 0.0013024783693253994\n",
      "6100 0.001122395507991314\n",
      "6200 0.0009841559221968055\n",
      "6300 0.0008749148109927773\n",
      "6400 0.0007865495281293988\n",
      "6500 0.0007136262720450759\n",
      "6600 0.0006525927456095815\n",
      "6700 0.000600747880525887\n",
      "6800 0.0005561667494475842\n",
      "6900 0.0005174618563614786\n",
      "7000 0.0004836336011067033\n",
      "7100 0.0004537721397355199\n",
      "7200 0.0004272061923984438\n",
      "7300 0.00040348825859837234\n",
      "7400 0.00038214115193113685\n",
      "7500 0.00036286652903072536\n",
      "7600 0.00034532143035903573\n",
      "7700 0.00032935672788880765\n",
      "7800 0.000314718927256763\n",
      "7900 0.00030131853418424726\n",
      "8000 0.0002889616880565882\n",
      "8100 0.0002774993481580168\n",
      "8200 0.0002669314562808722\n",
      "8300 0.0002570493088569492\n",
      "8400 0.00024786783615127206\n",
      "8500 0.00023931238683871925\n",
      "8600 0.00023129362671170384\n",
      "8700 0.0002237667649751529\n",
      "8800 0.00021670199930667877\n",
      "8900 0.00021005462622269988\n",
      "9000 0.000203779898583889\n",
      "9100 0.0001978629152290523\n",
      "9200 0.00019222912669647485\n",
      "9300 0.00018693818128667772\n",
      "9400 0.00018191552953794599\n",
      "9500 0.00017716118600219488\n",
      "9600 0.00017261551693081856\n",
      "9700 0.00016829342348501086\n",
      "9800 0.00016415018762927502\n",
      "9900 0.00016021561168599874\n",
      "10000 0.0001565046259202063\n"
     ]
    }
   ],
   "source": [
    "for step in range(10001):\n",
    "    optimizer.zero_grad()\n",
    "    hypothesis = model(X)\n",
    "\n",
    "    # cost/loss function\n",
    "    cost = criterion(hypothesis, Y)\n",
    "    cost.backward()\n",
    "    optimizer.step()\n",
    "\n",
    "    if step % 100 == 0:\n",
    "        print(step, cost.item())"
   ]
  },
  {
   "cell_type": "code",
   "execution_count": 8,
   "metadata": {},
   "outputs": [
    {
     "name": "stdout",
     "output_type": "stream",
     "text": [
      "\n",
      "Hypothesis:  [[1.1168354e-04]\n",
      " [9.9982882e-01]\n",
      " [9.9984241e-01]\n",
      " [1.8533420e-04]] \n",
      "Correct:  [[0.]\n",
      " [1.]\n",
      " [1.]\n",
      " [0.]] \n",
      "Accuracy:  1.0\n"
     ]
    }
   ],
   "source": [
    "# Accuracy computation\n",
    "# True if hypothesis>0.5 else False\n",
    "with torch.no_grad():\n",
    "    hypothesis = model(X)\n",
    "    predicted = (hypothesis > 0.5).float()\n",
    "    accuracy = (predicted == Y).float().mean()\n",
    "    print('\\nHypothesis: ', hypothesis.detach().cpu().numpy(), '\\nCorrect: ', predicted.detach().cpu().numpy(), '\\nAccuracy: ', accuracy.item())"
   ]
  }
 ],
 "metadata": {
  "kernelspec": {
   "display_name": "Python 3",
   "language": "python",
   "name": "python3"
  },
  "language_info": {
   "codemirror_mode": {
    "name": "ipython",
    "version": 3
   },
   "file_extension": ".py",
   "mimetype": "text/x-python",
   "name": "python",
   "nbconvert_exporter": "python",
   "pygments_lexer": "ipython3",
   "version": "3.5.3"
  }
 },
 "nbformat": 4,
 "nbformat_minor": 1
}
