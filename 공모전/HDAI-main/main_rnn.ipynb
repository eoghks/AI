{
 "cells": [
  {
   "cell_type": "code",
   "execution_count": 18,
   "metadata": {},
   "outputs": [],
   "source": [
    "import torch\n",
    "import torch.nn as nn\n",
    "import torch.nn.functional as F\n",
    "\n",
    "import os\n",
    "import xmltodict\n",
    "import base64\n",
    "import numpy as np\n",
    "import array\n",
    "\n",
    "from tqdm import tqdm\n",
    "\n",
    "from sklearn.metrics import accuracy_score,precision_score, recall_score, roc_auc_score\n",
    "from IPython.display import clear_output\n",
    "\n",
    "sampling = True\n",
    "channel_split = False"
   ]
  },
  {
   "cell_type": "markdown",
   "metadata": {},
   "source": [
    "# Data Preprocessings"
   ]
  },
  {
   "cell_type": "code",
   "execution_count": 19,
   "metadata": {},
   "outputs": [],
   "source": [
    "def get_lead(path):\n",
    "    with open(path, 'rb') as xml:\n",
    "        ECG = xmltodict.parse(xml.read().decode('utf8'))\n",
    "    \n",
    "    augmentLeads = True\n",
    "    if path.split('/')[-1][0] == '5':\n",
    "        waveforms = ECG['RestingECG']['Waveform'][1]\n",
    "    elif path.split('/')[-1][0] == '6':\n",
    "        waveforms = ECG['RestingECG']['Waveform']\n",
    "        augmentLeads = False\n",
    "    else:\n",
    "        waveforms = ECG['RestingECG']['Waveform']\n",
    "    \n",
    "    leads = {}\n",
    "    \n",
    "    for lead in waveforms['LeadData']:\n",
    "        lead_data = lead['WaveFormData']\n",
    "        lead_b64  = base64.b64decode(lead_data)\n",
    "        lead_vals = np.array(array.array('h', lead_b64))\n",
    "        leads[ lead['LeadID'] ] = lead_vals\n",
    "    \n",
    "    if augmentLeads:\n",
    "        leads['III'] = np.subtract(leads['II'], leads['I'])\n",
    "        leads['aVR'] = np.add(leads['I'], leads['II'])*(-0.5)\n",
    "        leads['aVL'] = np.subtract(leads['I'], 0.5*leads['II'])\n",
    "        leads['aVF'] = np.subtract(leads['II'], 0.5*leads['I'])\n",
    "    \n",
    "    return leads"
   ]
  },
  {
   "cell_type": "code",
   "execution_count": 20,
   "metadata": {},
   "outputs": [
    {
     "name": "stdout",
     "output_type": "stream",
     "text": [
      "argument should be a bytes-like object or ASCII string, not 'NoneType'\n",
      "bytes length not a multiple of item size\n",
      "argument should be a bytes-like object or ASCII string, not 'NoneType'\n",
      "argument should be a bytes-like object or ASCII string, not 'NoneType'\n",
      "argument should be a bytes-like object or ASCII string, not 'NoneType'\n",
      "argument should be a bytes-like object or ASCII string, not 'NoneType'\n",
      "argument should be a bytes-like object or ASCII string, not 'NoneType'\n",
      "argument should be a bytes-like object or ASCII string, not 'NoneType'\n",
      "8\n"
     ]
    }
   ],
   "source": [
    "error_files = ['6_2_003469_ecg.xml', '6_2_003618_ecg.xml', '6_2_005055_ecg.xml', '8_2_001879_ecg.xml', '8_2_002164_ecg.xml', '8_2_007281_ecg.xml', '8_2_008783_ecg.xml', '8_2_007226_ecg.xml']\n",
    "\n",
    "\n",
    "train_data = []\n",
    "train_labels = []\n",
    "valid_data = []\n",
    "valid_labels = []\n",
    "\n",
    "\n",
    "train_pathes = ['data/train/arrhythmia/', 'data/train/normal/']\n",
    "valid_pathes = ['data/validation/arrhythmia/', 'data/validation/normal/']\n",
    "\n",
    "error_decode = []   # 디코딩에 실패한 데이터들..\n",
    "\n",
    "for idx1, pathes in enumerate([train_pathes, valid_pathes]):\n",
    "    \n",
    "    for path in pathes:\n",
    "        for file in os.listdir(path):\n",
    "\n",
    "            if file in error_files or 'ipynb' in file:\n",
    "                continue\n",
    "\n",
    "            try:\n",
    "                data = get_lead(path + file)\n",
    "            except Exception as e:\n",
    "                print(e)\n",
    "                error_decode.append(path + file)\n",
    "\n",
    "            listed_data = []\n",
    "            keys = sorted(data.keys())\n",
    "            for key in keys:\n",
    "                listed_data.append(data[key])\n",
    "\n",
    "            for idx2, i in enumerate(listed_data):\n",
    "                if len(i) != 5000:\n",
    "                    listed_data[idx2] = np.append(i, np.zeros(5000-len(i)))\n",
    "\n",
    "            if sampling:\n",
    "                listed_data = list(map(lambda x: np.average(x.reshape(-1,10),axis=-1), listed_data))\n",
    "\n",
    "            # save each train, valid data\n",
    "            if idx1== 0: \n",
    "                train_data.append(listed_data)\n",
    "                if 'arrhythmia' in path:\n",
    "                    train_labels.append(1)\n",
    "                else:\n",
    "                    train_labels.append(0)\n",
    "            else:\n",
    "                valid_data.append(listed_data)\n",
    "                if 'arrhythmia' in path:\n",
    "                    valid_labels.append(1)\n",
    "                else:\n",
    "                    valid_labels.append(0)\n",
    "\n",
    "print(len(error_decode))\n"
   ]
  },
  {
   "cell_type": "code",
   "execution_count": 21,
   "metadata": {},
   "outputs": [],
   "source": [
    "error_lead_len = []\n",
    "for idx, i in enumerate(train_data):\n",
    "    if len(i) != 12:\n",
    "        error_lead_len.append(idx)\n",
    "for i in error_lead_len:\n",
    "    del train_data[i]\n",
    "    del train_labels[i]\n",
    "    "
   ]
  },
  {
   "cell_type": "markdown",
   "metadata": {},
   "source": [
    "# 데이터 길이 및 lead 개수 분석"
   ]
  },
  {
   "cell_type": "markdown",
   "metadata": {},
   "source": [
    " 데이터의 길이 분포 확인: valid는 모두 5000인것을 확인\n",
    " \n",
    " train은 60912개가 4999, 36개가 1249, 1개가 4988\n",
    " \n",
    " 위의 테스크는 먼저 4999개만 0의 패딩을 붙이고 나머지는 제외하는식으로 전처리함\n",
    "딱 한개의 9 lead의 데이터가 존재한다.."
   ]
  },
  {
   "cell_type": "markdown",
   "metadata": {},
   "source": [
    "# Dataset 생성"
   ]
  },
  {
   "cell_type": "code",
   "execution_count": 22,
   "metadata": {},
   "outputs": [
    {
     "name": "stderr",
     "output_type": "stream",
     "text": [
      "/tmp/ipykernel_5342/498780499.py:1: UserWarning: Creating a tensor from a list of numpy.ndarrays is extremely slow. Please consider converting the list to a single numpy.ndarray with numpy.array() before converting to a tensor. (Triggered internally at  /opt/conda/conda-bld/pytorch_1634272068694/work/torch/csrc/utils/tensor_new.cpp:201.)\n",
      "  train_dataset = torch.utils.data.TensorDataset(torch.tensor(train_data).float(), torch.tensor(train_labels))\n"
     ]
    }
   ],
   "source": [
    "train_dataset = torch.utils.data.TensorDataset(torch.tensor(train_data).float(), torch.tensor(train_labels))\n",
    "valid_dataset = torch.utils.data.TensorDataset(torch.tensor(valid_data).float(), torch.tensor(valid_labels))\n",
    "\n",
    "train_dataloader = torch.utils.data.DataLoader(train_dataset, batch_size=32, shuffle=True)\n",
    "val_dataloader = torch.utils.data.DataLoader(valid_dataset, batch_size=32, shuffle=False)"
   ]
  },
  {
   "cell_type": "code",
   "execution_count": null,
   "metadata": {},
   "outputs": [],
   "source": [
    "train_data = torch.tensor(train_data).float()\n",
    "train_labels = torch.tensor(train_labels).float()\n",
    "valid_data = torch.tensor(valid_data).float()\n",
    "valid_labels = torch.tensor(valid_labels).float()\n"
   ]
  },
  {
   "cell_type": "code",
   "execution_count": null,
   "metadata": {},
   "outputs": [],
   "source": [
    "train_dataset = torch.utils.data.TensorDataset(train_data, train_labels)\n",
    "valid_dataset = torch.utils.data.TensorDataset(valid_data, valid_labels)\n",
    "\n",
    "train_dataloader = torch.utils.data.DataLoader(train_dataset, batch_size=32, shuffle=True)\n",
    "val_dataloader = torch.utils.data.DataLoader(valid_dataset, batch_size=32, shuffle=False)"
   ]
  },
  {
   "cell_type": "code",
   "execution_count": 26,
   "metadata": {},
   "outputs": [],
   "source": [
    "# residual과 dropout 추가 필요\n",
    "class Classifier(nn.Module):\n",
    "    def __init__(self, drop_out=0.0):\n",
    "        super(Classifier,self).__init__()\n",
    "        n_layers = 2\n",
    "        channel_size = 12\n",
    "        hidden_size = 128\n",
    "        self.rnn = nn.GRU(channel_size, hidden_size, n_layers, batch_first=True, bidirectional=True, dropout=drop_out)\n",
    "        \n",
    "    \n",
    "        self.fc1 = nn.Linear(256,32)\n",
    "        self.fc2 = nn.Linear(32, 1)\n",
    "        \n",
    "        self.relu = nn.ReLU()\n",
    "        \n",
    "    def forward(self, x):\n",
    "        \n",
    "        x = x.permute(0,2,1)\n",
    "        output, hidden = self.rnn(x)\n",
    "        # hidden ([4, 32, 128])\n",
    "\n",
    "        hidden = torch.cat((hidden[-2], hidden[-1]), -1) #(32,256)\n",
    "\n",
    "        x = self.relu(self.fc1(hidden))\n",
    "        x = self.relu(self.fc2(x))\n",
    "        x = torch.sigmoid(x)\n",
    "        \n",
    "        return x.view(-1)\n",
    "        \n"
   ]
  },
  {
   "cell_type": "code",
   "execution_count": 27,
   "metadata": {},
   "outputs": [],
   "source": [
    "# Hyperparameter\n",
    "drop_out = 0.3\n",
    "l2_norm = 1e-6\n",
    "lr = 0.0005\n",
    "\n",
    "\n",
    "device = 'cuda' if torch.cuda.is_available() else 'cpu'\n",
    "model = Classifier(drop_out=drop_out).to(device)\n",
    "optimizer = torch.optim.Adam(model.parameters(), lr=lr, weight_decay=l2_norm)\n",
    "criterion = nn.BCELoss()\n"
   ]
  },
  {
   "cell_type": "code",
   "execution_count": null,
   "metadata": {},
   "outputs": [
    {
     "name": "stderr",
     "output_type": "stream",
     "text": [
      "  0%|                                                                                                               | 0/200 [00:00<?, ?it/s]"
     ]
    },
    {
     "name": "stdout",
     "output_type": "stream",
     "text": [
      "epoch: 0\n",
      "train \t loss mean  0.5589, auc_score :  0.7909, accuracy:  0.7993 \n"
     ]
    },
    {
     "name": "stderr",
     "output_type": "stream",
     "text": [
      "  0%|▌                                                                                                    | 1/200 [00:36<2:00:53, 36.45s/it]"
     ]
    },
    {
     "name": "stdout",
     "output_type": "stream",
     "text": [
      "validataion \t loss mean  0.6286, auc_score :  0.6834, accuracy:  0.7034 \n",
      "NEW RECODE!\n",
      "\n",
      "epoch: 1\n",
      "train \t loss mean  0.5046, auc_score :  0.8593, accuracy:  0.8648 \n"
     ]
    },
    {
     "name": "stderr",
     "output_type": "stream",
     "text": [
      "  1%|█                                                                                                    | 2/200 [01:12<1:58:41, 35.97s/it]"
     ]
    },
    {
     "name": "stdout",
     "output_type": "stream",
     "text": [
      "validataion \t loss mean  0.5925, auc_score :  0.7733, accuracy:  0.7796 \n",
      "NEW RECODE!\n",
      "\n",
      "epoch: 2\n",
      "train \t loss mean  0.4815, auc_score :  0.8842, accuracy:  0.8886 \n"
     ]
    },
    {
     "name": "stderr",
     "output_type": "stream",
     "text": [
      "  2%|█▌                                                                                                   | 3/200 [01:48<1:58:16, 36.02s/it]"
     ]
    },
    {
     "name": "stdout",
     "output_type": "stream",
     "text": [
      "validataion \t loss mean  0.5880, auc_score :  0.7577, accuracy:  0.7722 \n",
      "epoch: 3\n",
      "train \t loss mean  0.4690, auc_score :  0.8964, accuracy:  0.9006 \n"
     ]
    },
    {
     "name": "stderr",
     "output_type": "stream",
     "text": [
      "  2%|██                                                                                                   | 4/200 [02:24<1:57:54, 36.09s/it]"
     ]
    },
    {
     "name": "stdout",
     "output_type": "stream",
     "text": [
      "validataion \t loss mean  0.5838, auc_score :  0.7405, accuracy:  0.7590 \n",
      "epoch: 4\n",
      "train \t loss mean  0.4596, auc_score :  0.9081, accuracy:  0.9117 \n"
     ]
    },
    {
     "name": "stderr",
     "output_type": "stream",
     "text": [
      "  2%|██▌                                                                                                  | 5/200 [02:59<1:56:41, 35.90s/it]"
     ]
    },
    {
     "name": "stdout",
     "output_type": "stream",
     "text": [
      "validataion \t loss mean  0.5524, auc_score :  0.8028, accuracy:  0.8156 \n",
      "NEW RECODE!\n",
      "\n",
      "epoch: 5\n",
      "train \t loss mean  0.4512, auc_score :  0.9160, accuracy:  0.9195 \n"
     ]
    },
    {
     "name": "stderr",
     "output_type": "stream",
     "text": [
      "  3%|███                                                                                                  | 6/200 [03:35<1:56:04, 35.90s/it]"
     ]
    },
    {
     "name": "stdout",
     "output_type": "stream",
     "text": [
      "validataion \t loss mean  0.5456, auc_score :  0.8263, accuracy:  0.8352 \n",
      "NEW RECODE!\n",
      "\n",
      "epoch: 6\n",
      "train \t loss mean  0.4448, auc_score :  0.9223, accuracy:  0.9256 \n"
     ]
    },
    {
     "name": "stderr",
     "output_type": "stream",
     "text": [
      "  4%|███▌                                                                                                 | 7/200 [04:12<1:55:47, 36.00s/it]"
     ]
    },
    {
     "name": "stdout",
     "output_type": "stream",
     "text": [
      "validataion \t loss mean  0.5621, auc_score :  0.8045, accuracy:  0.8156 \n",
      "epoch: 7\n",
      "train \t loss mean  0.4375, auc_score :  0.9301, accuracy:  0.9333 \n"
     ]
    },
    {
     "name": "stderr",
     "output_type": "stream",
     "text": [
      "  4%|████                                                                                                 | 8/200 [04:47<1:54:43, 35.85s/it]"
     ]
    },
    {
     "name": "stdout",
     "output_type": "stream",
     "text": [
      "validataion \t loss mean  0.5590, auc_score :  0.8153, accuracy:  0.8265 \n",
      "epoch: 8\n",
      "train \t loss mean  0.4345, auc_score :  0.9341, accuracy:  0.9371 \n"
     ]
    },
    {
     "name": "stderr",
     "output_type": "stream",
     "text": [
      "  4%|████▌                                                                                                | 9/200 [05:23<1:53:57, 35.80s/it]"
     ]
    },
    {
     "name": "stdout",
     "output_type": "stream",
     "text": [
      "validataion \t loss mean  0.5746, auc_score :  0.8492, accuracy:  0.8512 \n",
      "NEW RECODE!\n",
      "\n",
      "epoch: 9\n",
      "train \t loss mean  0.4296, auc_score :  0.9389, accuracy:  0.9417 \n"
     ]
    },
    {
     "name": "stderr",
     "output_type": "stream",
     "text": [
      "  5%|█████                                                                                               | 10/200 [05:59<1:53:21, 35.80s/it]"
     ]
    },
    {
     "name": "stdout",
     "output_type": "stream",
     "text": [
      "validataion \t loss mean  0.5349, auc_score :  0.8504, accuracy:  0.8588 \n",
      "NEW RECODE!\n",
      "\n",
      "epoch: 10\n",
      "train \t loss mean  0.4276, auc_score :  0.9412, accuracy:  0.9438 \n"
     ]
    },
    {
     "name": "stderr",
     "output_type": "stream",
     "text": [
      "  6%|█████▌                                                                                              | 11/200 [06:34<1:52:32, 35.73s/it]"
     ]
    },
    {
     "name": "stdout",
     "output_type": "stream",
     "text": [
      "validataion \t loss mean  0.5360, auc_score :  0.8796, accuracy:  0.8817 \n",
      "NEW RECODE!\n",
      "\n",
      "epoch: 11\n",
      "train \t loss mean  0.4237, auc_score :  0.9452, accuracy:  0.9476 \n"
     ]
    },
    {
     "name": "stderr",
     "output_type": "stream",
     "text": [
      "  6%|██████                                                                                              | 12/200 [07:11<1:52:35, 35.93s/it]"
     ]
    },
    {
     "name": "stdout",
     "output_type": "stream",
     "text": [
      "validataion \t loss mean  0.5662, auc_score :  0.8622, accuracy:  0.8679 \n",
      "epoch: 12\n",
      "train \t loss mean  0.4221, auc_score :  0.9473, accuracy:  0.9496 \n"
     ]
    },
    {
     "name": "stderr",
     "output_type": "stream",
     "text": [
      "  6%|██████▌                                                                                             | 13/200 [07:46<1:51:55, 35.91s/it]"
     ]
    },
    {
     "name": "stdout",
     "output_type": "stream",
     "text": [
      "validataion \t loss mean  0.5841, auc_score :  0.8281, accuracy:  0.8378 \n",
      "epoch: 13\n",
      "train \t loss mean  0.4206, auc_score :  0.9489, accuracy:  0.9512 \n"
     ]
    },
    {
     "name": "stderr",
     "output_type": "stream",
     "text": [
      "  7%|███████                                                                                             | 14/200 [08:23<1:51:58, 36.12s/it]"
     ]
    },
    {
     "name": "stdout",
     "output_type": "stream",
     "text": [
      "validataion \t loss mean  0.5768, auc_score :  0.8678, accuracy:  0.8716 \n",
      "epoch: 14\n",
      "train \t loss mean  0.4190, auc_score :  0.9473, accuracy:  0.9499 \n"
     ]
    },
    {
     "name": "stderr",
     "output_type": "stream",
     "text": [
      "  8%|███████▌                                                                                            | 15/200 [08:59<1:51:22, 36.12s/it]"
     ]
    },
    {
     "name": "stdout",
     "output_type": "stream",
     "text": [
      "validataion \t loss mean  0.6577, auc_score :  0.8552, accuracy:  0.8598 \n",
      "epoch: 15\n",
      "train \t loss mean  0.4170, auc_score :  0.9526, accuracy:  0.9548 \n"
     ]
    },
    {
     "name": "stderr",
     "output_type": "stream",
     "text": [
      "  8%|████████                                                                                            | 16/200 [09:35<1:50:19, 35.97s/it]"
     ]
    },
    {
     "name": "stdout",
     "output_type": "stream",
     "text": [
      "validataion \t loss mean  0.5450, auc_score :  0.8678, accuracy:  0.8722 \n",
      "epoch: 16\n",
      "train \t loss mean  0.4162, auc_score :  0.9537, accuracy:  0.9558 \n"
     ]
    },
    {
     "name": "stderr",
     "output_type": "stream",
     "text": [
      "  8%|████████▌                                                                                           | 17/200 [10:10<1:49:28, 35.90s/it]"
     ]
    },
    {
     "name": "stdout",
     "output_type": "stream",
     "text": [
      "validataion \t loss mean  0.5832, auc_score :  0.8831, accuracy:  0.8850 \n",
      "NEW RECODE!\n",
      "\n",
      "epoch: 17\n",
      "train \t loss mean  0.4138, auc_score :  0.9570, accuracy:  0.9589 \n"
     ]
    },
    {
     "name": "stderr",
     "output_type": "stream",
     "text": [
      "  9%|█████████                                                                                           | 18/200 [10:47<1:49:32, 36.11s/it]"
     ]
    },
    {
     "name": "stdout",
     "output_type": "stream",
     "text": [
      "validataion \t loss mean  0.5873, auc_score :  0.8236, accuracy:  0.8358 \n",
      "epoch: 18\n",
      "train \t loss mean  0.4127, auc_score :  0.9579, accuracy:  0.9599 \n"
     ]
    },
    {
     "name": "stderr",
     "output_type": "stream",
     "text": [
      " 10%|█████████▌                                                                                          | 19/200 [11:23<1:48:57, 36.12s/it]"
     ]
    },
    {
     "name": "stdout",
     "output_type": "stream",
     "text": [
      "validataion \t loss mean  0.5839, auc_score :  0.8265, accuracy:  0.8358 \n",
      "epoch: 19\n",
      "train \t loss mean  0.4109, auc_score :  0.9600, accuracy:  0.9618 \n"
     ]
    },
    {
     "name": "stderr",
     "output_type": "stream",
     "text": [
      " 10%|██████████                                                                                          | 20/200 [11:59<1:48:15, 36.08s/it]"
     ]
    },
    {
     "name": "stdout",
     "output_type": "stream",
     "text": [
      "validataion \t loss mean  0.6398, auc_score :  0.8632, accuracy:  0.8660 \n",
      "epoch: 20\n",
      "train \t loss mean  0.4108, auc_score :  0.9589, accuracy:  0.9609 \n"
     ]
    },
    {
     "name": "stderr",
     "output_type": "stream",
     "text": [
      " 10%|██████████▌                                                                                         | 21/200 [12:36<1:48:08, 36.25s/it]"
     ]
    },
    {
     "name": "stdout",
     "output_type": "stream",
     "text": [
      "validataion \t loss mean  0.5951, auc_score :  0.8960, accuracy:  0.8944 \n",
      "NEW RECODE!\n",
      "\n",
      "epoch: 21\n",
      "train \t loss mean  0.4104, auc_score :  0.9593, accuracy:  0.9614 \n"
     ]
    },
    {
     "name": "stderr",
     "output_type": "stream",
     "text": [
      " 11%|███████████                                                                                         | 22/200 [13:13<1:48:14, 36.49s/it]"
     ]
    },
    {
     "name": "stdout",
     "output_type": "stream",
     "text": [
      "validataion \t loss mean  0.5734, auc_score :  0.8599, accuracy:  0.8668 \n",
      "epoch: 22\n",
      "train \t loss mean  0.4082, auc_score :  0.9612, accuracy:  0.9632 \n"
     ]
    },
    {
     "name": "stderr",
     "output_type": "stream",
     "text": [
      " 12%|███████████▌                                                                                        | 23/200 [13:50<1:48:00, 36.61s/it]"
     ]
    },
    {
     "name": "stdout",
     "output_type": "stream",
     "text": [
      "validataion \t loss mean  0.6206, auc_score :  0.7817, accuracy:  0.7975 \n",
      "epoch: 23\n",
      "train \t loss mean  0.4104, auc_score :  0.9595, accuracy:  0.9616 \n"
     ]
    },
    {
     "name": "stderr",
     "output_type": "stream",
     "text": [
      " 12%|████████████                                                                                        | 24/200 [14:26<1:46:37, 36.35s/it]"
     ]
    },
    {
     "name": "stdout",
     "output_type": "stream",
     "text": [
      "validataion \t loss mean  0.5983, auc_score :  0.8838, accuracy:  0.8864 \n",
      "epoch: 24\n",
      "train \t loss mean  0.4089, auc_score :  0.9621, accuracy:  0.9639 \n"
     ]
    },
    {
     "name": "stderr",
     "output_type": "stream",
     "text": [
      " 12%|████████████▌                                                                                       | 25/200 [15:01<1:45:29, 36.17s/it]"
     ]
    },
    {
     "name": "stdout",
     "output_type": "stream",
     "text": [
      "validataion \t loss mean  0.5538, auc_score :  0.8614, accuracy:  0.8689 \n",
      "epoch: 25\n",
      "train \t loss mean  0.4052, auc_score :  0.9649, accuracy:  0.9666 \n"
     ]
    },
    {
     "name": "stderr",
     "output_type": "stream",
     "text": [
      " 13%|█████████████                                                                                       | 26/200 [15:37<1:44:27, 36.02s/it]"
     ]
    },
    {
     "name": "stdout",
     "output_type": "stream",
     "text": [
      "validataion \t loss mean  0.5808, auc_score :  0.8936, accuracy:  0.8961 \n",
      "epoch: 26\n",
      "train \t loss mean  0.4074, auc_score :  0.9637, accuracy:  0.9655 \n"
     ]
    },
    {
     "name": "stderr",
     "output_type": "stream",
     "text": [
      " 14%|█████████████▌                                                                                      | 27/200 [16:13<1:43:41, 35.96s/it]"
     ]
    },
    {
     "name": "stdout",
     "output_type": "stream",
     "text": [
      "validataion \t loss mean  0.5717, auc_score :  0.8987, accuracy:  0.9010 \n",
      "NEW RECODE!\n",
      "\n",
      "epoch: 27\n",
      "train \t loss mean  0.4061, auc_score :  0.9643, accuracy:  0.9661 \n"
     ]
    },
    {
     "name": "stderr",
     "output_type": "stream",
     "text": [
      " 14%|██████████████                                                                                      | 28/200 [16:49<1:42:57, 35.91s/it]"
     ]
    },
    {
     "name": "stdout",
     "output_type": "stream",
     "text": [
      "validataion \t loss mean  0.6291, auc_score :  0.8439, accuracy:  0.8506 \n",
      "epoch: 28\n",
      "train \t loss mean  0.4061, auc_score :  0.9649, accuracy:  0.9666 \n"
     ]
    },
    {
     "name": "stderr",
     "output_type": "stream",
     "text": [
      " 14%|██████████████▍                                                                                     | 29/200 [17:24<1:42:13, 35.87s/it]"
     ]
    },
    {
     "name": "stdout",
     "output_type": "stream",
     "text": [
      "validataion \t loss mean  0.5480, auc_score :  0.8742, accuracy:  0.8804 \n",
      "epoch: 29\n",
      "train \t loss mean  0.4055, auc_score :  0.9658, accuracy:  0.9674 \n"
     ]
    },
    {
     "name": "stderr",
     "output_type": "stream",
     "text": [
      " 15%|███████████████                                                                                     | 30/200 [18:00<1:41:34, 35.85s/it]"
     ]
    },
    {
     "name": "stdout",
     "output_type": "stream",
     "text": [
      "validataion \t loss mean  0.5610, auc_score :  0.8900, accuracy:  0.8944 \n",
      "epoch: 30\n",
      "train \t loss mean  0.4037, auc_score :  0.9676, accuracy:  0.9693 \n"
     ]
    },
    {
     "name": "stderr",
     "output_type": "stream",
     "text": [
      " 16%|███████████████▌                                                                                    | 31/200 [18:36<1:40:52, 35.82s/it]"
     ]
    },
    {
     "name": "stdout",
     "output_type": "stream",
     "text": [
      "validataion \t loss mean  0.6493, auc_score :  0.8787, accuracy:  0.8788 \n",
      "epoch: 31\n",
      "train \t loss mean  0.4042, auc_score :  0.9673, accuracy:  0.9688 \n"
     ]
    },
    {
     "name": "stderr",
     "output_type": "stream",
     "text": [
      " 16%|████████████████                                                                                    | 32/200 [19:12<1:40:08, 35.76s/it]"
     ]
    },
    {
     "name": "stdout",
     "output_type": "stream",
     "text": [
      "validataion \t loss mean  0.6027, auc_score :  0.7815, accuracy:  0.7969 \n",
      "epoch: 32\n",
      "train \t loss mean  0.4047, auc_score :  0.9674, accuracy:  0.9690 \n"
     ]
    },
    {
     "name": "stderr",
     "output_type": "stream",
     "text": [
      " 16%|████████████████▌                                                                                   | 33/200 [19:48<1:39:58, 35.92s/it]"
     ]
    },
    {
     "name": "stdout",
     "output_type": "stream",
     "text": [
      "validataion \t loss mean  0.5612, auc_score :  0.8646, accuracy:  0.8714 \n",
      "epoch: 33\n",
      "train \t loss mean  0.4028, auc_score :  0.9686, accuracy:  0.9701 \n"
     ]
    },
    {
     "name": "stderr",
     "output_type": "stream",
     "text": [
      " 17%|█████████████████                                                                                   | 34/200 [20:24<1:39:15, 35.88s/it]"
     ]
    },
    {
     "name": "stdout",
     "output_type": "stream",
     "text": [
      "validataion \t loss mean  0.5786, auc_score :  0.8992, accuracy:  0.9004 \n",
      "NEW RECODE!\n",
      "\n",
      "epoch: 34\n",
      "train \t loss mean  0.4023, auc_score :  0.9706, accuracy:  0.9719 \n"
     ]
    },
    {
     "name": "stderr",
     "output_type": "stream",
     "text": [
      " 18%|█████████████████▌                                                                                  | 35/200 [20:59<1:38:35, 35.85s/it]"
     ]
    },
    {
     "name": "stdout",
     "output_type": "stream",
     "text": [
      "validataion \t loss mean  0.6133, auc_score :  0.8586, accuracy:  0.8652 \n",
      "epoch: 35\n",
      "train \t loss mean  0.4012, auc_score :  0.9709, accuracy:  0.9722 \n"
     ]
    },
    {
     "name": "stderr",
     "output_type": "stream",
     "text": [
      " 18%|██████████████████                                                                                  | 36/200 [21:35<1:37:52, 35.81s/it]"
     ]
    },
    {
     "name": "stdout",
     "output_type": "stream",
     "text": [
      "validataion \t loss mean  0.5805, auc_score :  0.8794, accuracy:  0.8833 \n",
      "epoch: 36\n",
      "train \t loss mean  0.3999, auc_score :  0.9720, accuracy:  0.9734 \n"
     ]
    },
    {
     "name": "stderr",
     "output_type": "stream",
     "text": [
      " 18%|██████████████████▌                                                                                 | 37/200 [22:11<1:37:28, 35.88s/it]"
     ]
    },
    {
     "name": "stdout",
     "output_type": "stream",
     "text": [
      "validataion \t loss mean  0.6253, auc_score :  0.8851, accuracy:  0.8882 \n",
      "epoch: 37\n",
      "train \t loss mean  0.4019, auc_score :  0.9700, accuracy:  0.9714 \n"
     ]
    },
    {
     "name": "stderr",
     "output_type": "stream",
     "text": [
      " 19%|███████████████████                                                                                 | 38/200 [22:47<1:36:31, 35.75s/it]"
     ]
    },
    {
     "name": "stdout",
     "output_type": "stream",
     "text": [
      "validataion \t loss mean  0.5955, auc_score :  0.9012, accuracy:  0.9037 \n",
      "NEW RECODE!\n",
      "\n",
      "epoch: 38\n",
      "train \t loss mean  0.4019, auc_score :  0.9702, accuracy:  0.9717 \n"
     ]
    },
    {
     "name": "stderr",
     "output_type": "stream",
     "text": [
      " 20%|███████████████████▌                                                                                | 39/200 [23:22<1:35:45, 35.69s/it]"
     ]
    },
    {
     "name": "stdout",
     "output_type": "stream",
     "text": [
      "validataion \t loss mean  0.5852, auc_score :  0.8779, accuracy:  0.8833 \n",
      "epoch: 39\n",
      "train \t loss mean  0.4021, auc_score :  0.9695, accuracy:  0.9710 \n"
     ]
    },
    {
     "name": "stderr",
     "output_type": "stream",
     "text": [
      " 20%|████████████████████                                                                                | 40/200 [23:58<1:35:01, 35.63s/it]"
     ]
    },
    {
     "name": "stdout",
     "output_type": "stream",
     "text": [
      "validataion \t loss mean  0.5801, auc_score :  0.8932, accuracy:  0.8950 \n",
      "epoch: 40\n",
      "train \t loss mean  0.4027, auc_score :  0.9687, accuracy:  0.9703 \n"
     ]
    },
    {
     "name": "stderr",
     "output_type": "stream",
     "text": [
      " 20%|████████████████████▌                                                                               | 41/200 [24:33<1:34:19, 35.59s/it]"
     ]
    },
    {
     "name": "stdout",
     "output_type": "stream",
     "text": [
      "validataion \t loss mean  0.5522, auc_score :  0.8641, accuracy:  0.8720 \n",
      "epoch: 41\n",
      "train \t loss mean  0.4005, auc_score :  0.9716, accuracy:  0.9730 \n"
     ]
    },
    {
     "name": "stderr",
     "output_type": "stream",
     "text": [
      " 21%|█████████████████████                                                                               | 42/200 [25:09<1:33:38, 35.56s/it]"
     ]
    },
    {
     "name": "stdout",
     "output_type": "stream",
     "text": [
      "validataion \t loss mean  0.5353, auc_score :  0.8973, accuracy:  0.9000 \n",
      "epoch: 42\n",
      "train \t loss mean  0.4000, auc_score :  0.9717, accuracy:  0.9731 \n"
     ]
    },
    {
     "name": "stderr",
     "output_type": "stream",
     "text": [
      " 22%|█████████████████████▌                                                                              | 43/200 [25:44<1:33:08, 35.59s/it]"
     ]
    },
    {
     "name": "stdout",
     "output_type": "stream",
     "text": [
      "validataion \t loss mean  0.5855, auc_score :  0.8755, accuracy:  0.8808 \n",
      "epoch: 43\n",
      "train \t loss mean  0.3989, auc_score :  0.9734, accuracy:  0.9748 \n"
     ]
    },
    {
     "name": "stderr",
     "output_type": "stream",
     "text": [
      " 22%|██████████████████████                                                                              | 44/200 [26:21<1:33:07, 35.82s/it]"
     ]
    },
    {
     "name": "stdout",
     "output_type": "stream",
     "text": [
      "validataion \t loss mean  0.5494, auc_score :  0.8579, accuracy:  0.8662 \n",
      "epoch: 44\n",
      "train \t loss mean  0.3994, auc_score :  0.9732, accuracy:  0.9745 \n"
     ]
    },
    {
     "name": "stderr",
     "output_type": "stream",
     "text": [
      " 22%|██████████████████████▌                                                                             | 45/200 [26:58<1:33:26, 36.17s/it]"
     ]
    },
    {
     "name": "stdout",
     "output_type": "stream",
     "text": [
      "validataion \t loss mean  0.5770, auc_score :  0.8834, accuracy:  0.8885 \n",
      "epoch: 45\n",
      "train \t loss mean  0.3998, auc_score :  0.9734, accuracy:  0.9746 \n"
     ]
    },
    {
     "name": "stderr",
     "output_type": "stream",
     "text": [
      " 23%|███████████████████████                                                                             | 46/200 [27:35<1:33:24, 36.39s/it]"
     ]
    },
    {
     "name": "stdout",
     "output_type": "stream",
     "text": [
      "validataion \t loss mean  0.5473, auc_score :  0.8922, accuracy:  0.8952 \n",
      "epoch: 46\n",
      "train \t loss mean  0.3966, auc_score :  0.9764, accuracy:  0.9775 \n"
     ]
    },
    {
     "name": "stderr",
     "output_type": "stream",
     "text": [
      " 24%|███████████████████████▌                                                                            | 47/200 [28:11<1:32:41, 36.35s/it]"
     ]
    },
    {
     "name": "stdout",
     "output_type": "stream",
     "text": [
      "validataion \t loss mean  0.6666, auc_score :  0.9026, accuracy:  0.9022 \n",
      "NEW RECODE!\n",
      "\n",
      "epoch: 47\n",
      "train \t loss mean  0.3973, auc_score :  0.9748, accuracy:  0.9760 \n"
     ]
    },
    {
     "name": "stderr",
     "output_type": "stream",
     "text": [
      " 24%|████████████████████████                                                                            | 48/200 [28:48<1:32:27, 36.50s/it]"
     ]
    },
    {
     "name": "stdout",
     "output_type": "stream",
     "text": [
      "validataion \t loss mean  0.5981, auc_score :  0.8917, accuracy:  0.8957 \n",
      "epoch: 48\n",
      "train \t loss mean  0.3983, auc_score :  0.9749, accuracy:  0.9761 \n"
     ]
    },
    {
     "name": "stderr",
     "output_type": "stream",
     "text": [
      " 24%|████████████████████████▌                                                                           | 49/200 [29:25<1:32:21, 36.70s/it]"
     ]
    },
    {
     "name": "stdout",
     "output_type": "stream",
     "text": [
      "validataion \t loss mean  0.5876, auc_score :  0.8899, accuracy:  0.8936 \n",
      "epoch: 49\n",
      "train \t loss mean  0.3968, auc_score :  0.9758, accuracy:  0.9770 \n"
     ]
    },
    {
     "name": "stderr",
     "output_type": "stream",
     "text": [
      " 25%|█████████████████████████                                                                           | 50/200 [30:04<1:33:37, 37.45s/it]"
     ]
    },
    {
     "name": "stdout",
     "output_type": "stream",
     "text": [
      "validataion \t loss mean  0.5957, auc_score :  0.8633, accuracy:  0.8699 \n",
      "epoch: 50\n",
      "train \t loss mean  0.3976, auc_score :  0.9756, accuracy:  0.9768 \n"
     ]
    },
    {
     "name": "stderr",
     "output_type": "stream",
     "text": [
      " 26%|█████████████████████████▌                                                                          | 51/200 [30:42<1:33:11, 37.53s/it]"
     ]
    },
    {
     "name": "stdout",
     "output_type": "stream",
     "text": [
      "validataion \t loss mean  0.6197, auc_score :  0.8848, accuracy:  0.8870 \n",
      "epoch: 51\n",
      "train \t loss mean  0.3965, auc_score :  0.9765, accuracy:  0.9776 \n"
     ]
    },
    {
     "name": "stderr",
     "output_type": "stream",
     "text": [
      " 26%|██████████████████████████                                                                          | 52/200 [31:20<1:32:51, 37.64s/it]"
     ]
    },
    {
     "name": "stdout",
     "output_type": "stream",
     "text": [
      "validataion \t loss mean  0.6102, auc_score :  0.8949, accuracy:  0.8979 \n",
      "epoch: 52\n",
      "train \t loss mean  0.3975, auc_score :  0.9747, accuracy:  0.9759 \n"
     ]
    },
    {
     "name": "stderr",
     "output_type": "stream",
     "text": [
      " 26%|██████████████████████████▌                                                                         | 53/200 [31:57<1:32:18, 37.68s/it]"
     ]
    },
    {
     "name": "stdout",
     "output_type": "stream",
     "text": [
      "validataion \t loss mean  0.5632, auc_score :  0.8728, accuracy:  0.8804 \n",
      "epoch: 53\n",
      "train \t loss mean  0.4005, auc_score :  0.9752, accuracy:  0.9764 \n"
     ]
    },
    {
     "name": "stderr",
     "output_type": "stream",
     "text": [
      " 27%|███████████████████████████                                                                         | 54/200 [32:35<1:31:19, 37.53s/it]"
     ]
    },
    {
     "name": "stdout",
     "output_type": "stream",
     "text": [
      "validataion \t loss mean  0.5985, auc_score :  0.8725, accuracy:  0.8782 \n",
      "epoch: 54\n",
      "train \t loss mean  0.3984, auc_score :  0.9752, accuracy:  0.9763 \n"
     ]
    },
    {
     "name": "stderr",
     "output_type": "stream",
     "text": [
      " 28%|███████████████████████████▌                                                                        | 55/200 [33:11<1:29:48, 37.16s/it]"
     ]
    },
    {
     "name": "stdout",
     "output_type": "stream",
     "text": [
      "validataion \t loss mean  0.5939, auc_score :  0.9063, accuracy:  0.9082 \n",
      "NEW RECODE!\n",
      "\n",
      "epoch: 55\n",
      "train \t loss mean  0.3987, auc_score :  0.9735, accuracy:  0.9749 \n"
     ]
    },
    {
     "name": "stderr",
     "output_type": "stream",
     "text": [
      " 28%|████████████████████████████                                                                        | 56/200 [33:47<1:28:48, 37.00s/it]"
     ]
    },
    {
     "name": "stdout",
     "output_type": "stream",
     "text": [
      "validataion \t loss mean  0.5585, auc_score :  0.8824, accuracy:  0.8872 \n",
      "epoch: 56\n",
      "train \t loss mean  0.3973, auc_score :  0.9761, accuracy:  0.9772 \n"
     ]
    },
    {
     "name": "stderr",
     "output_type": "stream",
     "text": [
      " 28%|████████████████████████████▍                                                                       | 57/200 [34:24<1:27:47, 36.83s/it]"
     ]
    },
    {
     "name": "stdout",
     "output_type": "stream",
     "text": [
      "validataion \t loss mean  0.5491, auc_score :  0.8445, accuracy:  0.8539 \n",
      "epoch: 57\n",
      "train \t loss mean  0.3973, auc_score :  0.9762, accuracy:  0.9773 \n"
     ]
    },
    {
     "name": "stderr",
     "output_type": "stream",
     "text": [
      " 29%|████████████████████████████▉                                                                       | 58/200 [35:00<1:26:37, 36.60s/it]"
     ]
    },
    {
     "name": "stdout",
     "output_type": "stream",
     "text": [
      "validataion \t loss mean  0.6410, auc_score :  0.8857, accuracy:  0.8893 \n",
      "epoch: 58\n",
      "train \t loss mean  0.3954, auc_score :  0.9768, accuracy:  0.9780 \n"
     ]
    },
    {
     "name": "stderr",
     "output_type": "stream",
     "text": [
      " 30%|█████████████████████████████▌                                                                      | 59/200 [35:36<1:25:25, 36.35s/it]"
     ]
    },
    {
     "name": "stdout",
     "output_type": "stream",
     "text": [
      "validataion \t loss mean  0.6024, auc_score :  0.9020, accuracy:  0.9057 \n",
      "epoch: 59\n",
      "train \t loss mean  0.3974, auc_score :  0.9754, accuracy:  0.9767 \n"
     ]
    },
    {
     "name": "stderr",
     "output_type": "stream",
     "text": [
      " 30%|██████████████████████████████                                                                      | 60/200 [36:12<1:24:27, 36.20s/it]"
     ]
    },
    {
     "name": "stdout",
     "output_type": "stream",
     "text": [
      "validataion \t loss mean  0.5831, auc_score :  0.8665, accuracy:  0.8740 \n",
      "epoch: 60\n",
      "train \t loss mean  0.3964, auc_score :  0.9762, accuracy:  0.9774 \n"
     ]
    },
    {
     "name": "stderr",
     "output_type": "stream",
     "text": [
      " 30%|██████████████████████████████▌                                                                     | 61/200 [36:48<1:23:44, 36.15s/it]"
     ]
    },
    {
     "name": "stdout",
     "output_type": "stream",
     "text": [
      "validataion \t loss mean  0.5714, auc_score :  0.8840, accuracy:  0.8905 \n",
      "epoch: 61\n",
      "train \t loss mean  0.3977, auc_score :  0.9748, accuracy:  0.9761 \n"
     ]
    },
    {
     "name": "stderr",
     "output_type": "stream",
     "text": [
      " 31%|███████████████████████████████                                                                     | 62/200 [37:24<1:23:32, 36.32s/it]"
     ]
    },
    {
     "name": "stdout",
     "output_type": "stream",
     "text": [
      "validataion \t loss mean  0.6330, auc_score :  0.8317, accuracy:  0.8401 \n",
      "epoch: 62\n",
      "train \t loss mean  0.3966, auc_score :  0.9761, accuracy:  0.9772 \n"
     ]
    },
    {
     "name": "stderr",
     "output_type": "stream",
     "text": [
      " 32%|███████████████████████████████▌                                                                    | 63/200 [38:01<1:22:55, 36.32s/it]"
     ]
    },
    {
     "name": "stdout",
     "output_type": "stream",
     "text": [
      "validataion \t loss mean  0.5945, auc_score :  0.8869, accuracy:  0.8915 \n",
      "epoch: 63\n",
      "train \t loss mean  0.3962, auc_score :  0.9776, accuracy:  0.9786 \n"
     ]
    },
    {
     "name": "stderr",
     "output_type": "stream",
     "text": [
      " 32%|████████████████████████████████                                                                    | 64/200 [38:36<1:21:59, 36.18s/it]"
     ]
    },
    {
     "name": "stdout",
     "output_type": "stream",
     "text": [
      "validataion \t loss mean  0.5648, auc_score :  0.8642, accuracy:  0.8714 \n",
      "epoch: 64\n",
      "train \t loss mean  0.3950, auc_score :  0.9785, accuracy:  0.9795 \n"
     ]
    },
    {
     "name": "stderr",
     "output_type": "stream",
     "text": [
      " 32%|████████████████████████████████▌                                                                   | 65/200 [39:12<1:21:05, 36.04s/it]"
     ]
    },
    {
     "name": "stdout",
     "output_type": "stream",
     "text": [
      "validataion \t loss mean  0.6618, auc_score :  0.8724, accuracy:  0.8773 \n",
      "epoch: 65\n",
      "train \t loss mean  0.3960, auc_score :  0.9775, accuracy:  0.9786 \n"
     ]
    },
    {
     "name": "stderr",
     "output_type": "stream",
     "text": [
      " 33%|█████████████████████████████████                                                                   | 66/200 [39:48<1:20:19, 35.97s/it]"
     ]
    },
    {
     "name": "stdout",
     "output_type": "stream",
     "text": [
      "validataion \t loss mean  0.5629, auc_score :  0.8853, accuracy:  0.8915 \n",
      "epoch: 66\n",
      "train \t loss mean  0.3960, auc_score :  0.9772, accuracy:  0.9783 \n"
     ]
    },
    {
     "name": "stderr",
     "output_type": "stream",
     "text": [
      " 34%|█████████████████████████████████▌                                                                  | 67/200 [40:24<1:19:31, 35.88s/it]"
     ]
    },
    {
     "name": "stdout",
     "output_type": "stream",
     "text": [
      "validataion \t loss mean  0.7050, auc_score :  0.8966, accuracy:  0.8983 \n",
      "epoch: 67\n",
      "train \t loss mean  0.3954, auc_score :  0.9766, accuracy:  0.9779 \n"
     ]
    },
    {
     "name": "stderr",
     "output_type": "stream",
     "text": [
      " 34%|██████████████████████████████████                                                                  | 68/200 [40:59<1:18:42, 35.78s/it]"
     ]
    },
    {
     "name": "stdout",
     "output_type": "stream",
     "text": [
      "validataion \t loss mean  0.5765, auc_score :  0.8843, accuracy:  0.8911 \n",
      "epoch: 68\n",
      "train \t loss mean  0.3981, auc_score :  0.9752, accuracy:  0.9764 \n"
     ]
    },
    {
     "name": "stderr",
     "output_type": "stream",
     "text": [
      " 34%|██████████████████████████████████▌                                                                 | 69/200 [41:35<1:18:08, 35.79s/it]"
     ]
    },
    {
     "name": "stdout",
     "output_type": "stream",
     "text": [
      "validataion \t loss mean  0.5988, auc_score :  0.8885, accuracy:  0.8934 \n",
      "epoch: 69\n",
      "train \t loss mean  0.3964, auc_score :  0.9770, accuracy:  0.9781 \n"
     ]
    },
    {
     "name": "stderr",
     "output_type": "stream",
     "text": [
      " 35%|███████████████████████████████████                                                                 | 70/200 [42:11<1:17:32, 35.79s/it]"
     ]
    },
    {
     "name": "stdout",
     "output_type": "stream",
     "text": [
      "validataion \t loss mean  0.5866, auc_score :  0.8730, accuracy:  0.8800 \n",
      "epoch: 70\n",
      "train \t loss mean  0.3957, auc_score :  0.9782, accuracy:  0.9792 \n"
     ]
    },
    {
     "name": "stderr",
     "output_type": "stream",
     "text": [
      " 36%|███████████████████████████████████▌                                                                | 71/200 [42:47<1:16:56, 35.79s/it]"
     ]
    },
    {
     "name": "stdout",
     "output_type": "stream",
     "text": [
      "validataion \t loss mean  0.5657, auc_score :  0.8758, accuracy:  0.8829 \n",
      "epoch: 71\n",
      "train \t loss mean  0.3948, auc_score :  0.9777, accuracy:  0.9789 \n"
     ]
    },
    {
     "name": "stderr",
     "output_type": "stream",
     "text": [
      " 36%|████████████████████████████████████                                                                | 72/200 [43:22<1:16:17, 35.76s/it]"
     ]
    },
    {
     "name": "stdout",
     "output_type": "stream",
     "text": [
      "validataion \t loss mean  0.6525, auc_score :  0.9081, accuracy:  0.9105 \n",
      "NEW RECODE!\n",
      "\n",
      "epoch: 72\n",
      "train \t loss mean  0.3959, auc_score :  0.9780, accuracy:  0.9791 \n"
     ]
    },
    {
     "name": "stderr",
     "output_type": "stream",
     "text": [
      " 36%|████████████████████████████████████▌                                                               | 73/200 [43:58<1:15:41, 35.76s/it]"
     ]
    },
    {
     "name": "stdout",
     "output_type": "stream",
     "text": [
      "validataion \t loss mean  0.5888, auc_score :  0.8967, accuracy:  0.9008 \n",
      "epoch: 73\n",
      "train \t loss mean  0.3963, auc_score :  0.9781, accuracy:  0.9791 \n"
     ]
    },
    {
     "name": "stderr",
     "output_type": "stream",
     "text": [
      " 37%|█████████████████████████████████████                                                               | 74/200 [44:34<1:14:58, 35.71s/it]"
     ]
    },
    {
     "name": "stdout",
     "output_type": "stream",
     "text": [
      "validataion \t loss mean  0.5461, auc_score :  0.9052, accuracy:  0.9080 \n",
      "epoch: 74\n",
      "train \t loss mean  0.3951, auc_score :  0.9789, accuracy:  0.9799 \n"
     ]
    },
    {
     "name": "stderr",
     "output_type": "stream",
     "text": [
      " 38%|█████████████████████████████████████▌                                                              | 75/200 [45:09<1:14:20, 35.68s/it]"
     ]
    },
    {
     "name": "stdout",
     "output_type": "stream",
     "text": [
      "validataion \t loss mean  0.6146, auc_score :  0.8869, accuracy:  0.8893 \n",
      "epoch: 75\n",
      "train \t loss mean  0.3945, auc_score :  0.9792, accuracy:  0.9802 \n"
     ]
    },
    {
     "name": "stderr",
     "output_type": "stream",
     "text": [
      " 38%|██████████████████████████████████████                                                              | 76/200 [45:46<1:14:23, 35.99s/it]"
     ]
    },
    {
     "name": "stdout",
     "output_type": "stream",
     "text": [
      "validataion \t loss mean  0.5539, auc_score :  0.9021, accuracy:  0.9039 \n"
     ]
    }
   ],
   "source": [
    "epoches = 200\n",
    "\n",
    "best_auc = 0\n",
    "best_epoch = -1\n",
    "best_pred = []\n",
    "\n",
    "prev_model = None\n",
    "\n",
    "for i in tqdm(range(epoches)):\n",
    "    \n",
    "    # Train\n",
    "    loss_sum = 0\n",
    "    true_labels = []\n",
    "    pred_labels = []\n",
    "    model.train()\n",
    "    for e_num, (x,y) in enumerate(train_dataloader):\n",
    "        x, y = x.type(torch.FloatTensor).to(device), y.type(torch.FloatTensor).to(device)\n",
    "        model.zero_grad()\n",
    "        pred_y = model(x)\n",
    "        \n",
    "        loss=criterion(pred_y,y)\n",
    "        loss_sum+=loss.detach()\n",
    "        optimizer.zero_grad()\n",
    "        loss.backward()\n",
    "        optimizer.step()\n",
    "        \n",
    "        true_labels.extend(y.cpu().numpy())\n",
    "        pred_labels.extend(np.around(pred_y.cpu().detach().numpy()))\n",
    "        \n",
    "        \n",
    "    acc=accuracy_score(true_labels,pred_labels)\n",
    "    auc = roc_auc_score(true_labels,pred_labels)\n",
    "    print(f'epoch: {i}')\n",
    "    print(f'train \\t loss mean {loss_sum/e_num : .4f}, auc_score : {auc : .4f}, accuracy: {acc : .4f} ')\n",
    "    \n",
    "    # Valid\n",
    "    loss_sum=0\n",
    "    true_labels=[]\n",
    "    pred_labels=[]\n",
    "    model.eval()\n",
    "    for e_num, (x,y) in enumerate(val_dataloader):\n",
    "        x, y = x.type(torch.FloatTensor).to(device), y.type(torch.FloatTensor).to(device)\n",
    "\n",
    "        pred_y = model(x)\n",
    "        loss=criterion(pred_y,y)\n",
    "        \n",
    "        loss_sum+=loss.detach()\n",
    "        \n",
    "        true_labels.extend(y.cpu().numpy())\n",
    "        pred_labels.extend(np.around(pred_y.cpu().detach().numpy()))\n",
    "        \n",
    "        \n",
    "    acc = accuracy_score(true_labels,pred_labels)\n",
    "    auc = roc_auc_score(true_labels,pred_labels)\n",
    "    \n",
    "    print(f'validataion \\t loss mean {loss_sum/e_num : .4f}, auc_score : {auc : .4f}, accuracy: {acc : .4f} ')\n",
    "    if auc > best_auc:\n",
    "        print(\"NEW RECODE!\", end='\\n\\n')\n",
    "        best_pred = pred_labels\n",
    "        best_auc = auc\n",
    "        best_epoch = i\n",
    "        \n",
    "        \n",
    "        if prev_model is not None:\n",
    "            os.remove(prev_model)\n",
    "        prev_model = f'cnn_model_{best_auc : .4f}.h5'\n",
    "        torch.save(model.state_dict(), prev_model)\n",
    "\n",
    "print(f'best validation acc = {best_auc : .4f}, in epoch {best_epoch}')"
   ]
  },
  {
   "cell_type": "code",
   "execution_count": null,
   "metadata": {},
   "outputs": [],
   "source": [
    "def plot_roc_curve(fper, tper):\n",
    "    plt.plot(fper, tper, color='red', label='ROC')\n",
    "    plt.plot([0, 1], [0, 1], color='green', linestyle='--')\n",
    "    plt.xlabel('False Positive Rate')\n",
    "    plt.ylabel('True Positive Rate')\n",
    "    plt.title('Receiver Operating Characteristic Curve')\n",
    "    plt.legend()\n",
    "    plt.show()"
   ]
  },
  {
   "cell_type": "code",
   "execution_count": 16,
   "metadata": {},
   "outputs": [
    {
     "ename": "ModuleNotFoundError",
     "evalue": "No module named 'matplotlib'",
     "output_type": "error",
     "traceback": [
      "\u001b[0;31m---------------------------------------------------------------------------\u001b[0m",
      "\u001b[0;31mModuleNotFoundError\u001b[0m                       Traceback (most recent call last)",
      "\u001b[0;32m/tmp/ipykernel_26088/1258376772.py\u001b[0m in \u001b[0;36m<module>\u001b[0;34m\u001b[0m\n\u001b[0;32m----> 1\u001b[0;31m \u001b[0;32mimport\u001b[0m  \u001b[0mmatplotlib\u001b[0m\u001b[0;34m.\u001b[0m\u001b[0mpyplot\u001b[0m \u001b[0;32mas\u001b[0m \u001b[0mplt\u001b[0m\u001b[0;34m\u001b[0m\u001b[0;34m\u001b[0m\u001b[0m\n\u001b[0m\u001b[1;32m      2\u001b[0m \u001b[0;32mfrom\u001b[0m \u001b[0msklearn\u001b[0m\u001b[0;34m.\u001b[0m\u001b[0mmetrics\u001b[0m \u001b[0;32mimport\u001b[0m \u001b[0mroc_curve\u001b[0m\u001b[0;34m\u001b[0m\u001b[0;34m\u001b[0m\u001b[0m\n\u001b[1;32m      3\u001b[0m \u001b[0;34m\u001b[0m\u001b[0m\n\u001b[1;32m      4\u001b[0m \u001b[0mfper\u001b[0m\u001b[0;34m,\u001b[0m \u001b[0mtper\u001b[0m\u001b[0;34m,\u001b[0m \u001b[0mthresholds\u001b[0m \u001b[0;34m=\u001b[0m \u001b[0mroc_curve\u001b[0m\u001b[0;34m(\u001b[0m\u001b[0mtrue_labels\u001b[0m\u001b[0;34m,\u001b[0m\u001b[0mbest_acc_pred\u001b[0m\u001b[0;34m)\u001b[0m\u001b[0;34m\u001b[0m\u001b[0;34m\u001b[0m\u001b[0m\n\u001b[1;32m      5\u001b[0m \u001b[0mplot_roc_curve\u001b[0m\u001b[0;34m(\u001b[0m\u001b[0mfper\u001b[0m\u001b[0;34m,\u001b[0m \u001b[0mtper\u001b[0m\u001b[0;34m)\u001b[0m\u001b[0;34m\u001b[0m\u001b[0;34m\u001b[0m\u001b[0m\n",
      "\u001b[0;31mModuleNotFoundError\u001b[0m: No module named 'matplotlib'"
     ]
    }
   ],
   "source": [
    "import  matplotlib.pyplot as plt\n",
    "from sklearn.metrics import roc_curve\n",
    "\n",
    "fper, tper, thresholds = roc_curve(true_labels,best_acc_pred)\n",
    "plot_roc_curve(fper, tper)"
   ]
  },
  {
   "cell_type": "code",
   "execution_count": null,
   "metadata": {},
   "outputs": [],
   "source": []
  }
 ],
 "metadata": {
  "kernelspec": {
   "display_name": "HDAI",
   "language": "python",
   "name": "hdai"
  },
  "language_info": {
   "codemirror_mode": {
    "name": "ipython",
    "version": 3
   },
   "file_extension": ".py",
   "mimetype": "text/x-python",
   "name": "python",
   "nbconvert_exporter": "python",
   "pygments_lexer": "ipython3",
   "version": "3.8.12"
  }
 },
 "nbformat": 4,
 "nbformat_minor": 4
}
