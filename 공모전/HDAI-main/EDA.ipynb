{
 "cells": [
  {
   "cell_type": "code",
   "execution_count": 1,
   "metadata": {},
   "outputs": [
    {
     "ename": "ModuleNotFoundError",
     "evalue": "No module named 'xmltodict'",
     "output_type": "error",
     "traceback": [
      "\u001b[0;31m---------------------------------------------------------------------------\u001b[0m",
      "\u001b[0;31mModuleNotFoundError\u001b[0m                       Traceback (most recent call last)",
      "\u001b[0;32m<ipython-input-1-259e7f9dae05>\u001b[0m in \u001b[0;36m<module>\u001b[0;34m\u001b[0m\n\u001b[1;32m      1\u001b[0m \u001b[0;32mimport\u001b[0m \u001b[0mos\u001b[0m\u001b[0;34m\u001b[0m\u001b[0;34m\u001b[0m\u001b[0m\n\u001b[0;32m----> 2\u001b[0;31m \u001b[0;32mimport\u001b[0m \u001b[0mECGReader\u001b[0m\u001b[0;34m\u001b[0m\u001b[0;34m\u001b[0m\u001b[0m\n\u001b[0m\u001b[1;32m      3\u001b[0m \u001b[0;34m\u001b[0m\u001b[0m\n\u001b[1;32m      4\u001b[0m \u001b[0;34m\u001b[0m\u001b[0m\n\u001b[1;32m      5\u001b[0m  \u001b[0;31m#!pip install xmltodict\u001b[0m\u001b[0;34m\u001b[0m\u001b[0;34m\u001b[0m\u001b[0;34m\u001b[0m\u001b[0m\n",
      "\u001b[0;32m~/Yeongseo/AIBigdataChallenge/HDAI/HDAI/ECGReader.py\u001b[0m in \u001b[0;36m<module>\u001b[0;34m\u001b[0m\n\u001b[1;32m      3\u001b[0m \u001b[0;32mimport\u001b[0m \u001b[0marray\u001b[0m\u001b[0;34m\u001b[0m\u001b[0;34m\u001b[0m\u001b[0m\n\u001b[1;32m      4\u001b[0m \u001b[0;32mimport\u001b[0m \u001b[0mbase64\u001b[0m\u001b[0;34m\u001b[0m\u001b[0;34m\u001b[0m\u001b[0m\n\u001b[0;32m----> 5\u001b[0;31m \u001b[0;32mimport\u001b[0m \u001b[0mxmltodict\u001b[0m\u001b[0;34m\u001b[0m\u001b[0;34m\u001b[0m\u001b[0m\n\u001b[0m\u001b[1;32m      6\u001b[0m \u001b[0;32mimport\u001b[0m \u001b[0mnumpy\u001b[0m \u001b[0;32mas\u001b[0m \u001b[0mnp\u001b[0m\u001b[0;34m\u001b[0m\u001b[0;34m\u001b[0m\u001b[0m\n\u001b[1;32m      7\u001b[0m \u001b[0;34m\u001b[0m\u001b[0m\n",
      "\u001b[0;31mModuleNotFoundError\u001b[0m: No module named 'xmltodict'"
     ]
    }
   ],
   "source": [
    "\n",
    "import os\n",
    "import ECGReader\n",
    "\n",
    "\n",
    " #!pip install xmltodict\n",
    " #!pip install numpy"
   ]
  },
  {
   "cell_type": "code",
   "execution_count": 2,
   "metadata": {},
   "outputs": [],
   "source": [
    "\n",
    "def test(p):\n",
    "    ecg = ECGReader.Reader(p, augmentLeads=True)\n",
    "    \n",
    "    return ecg.getCount()\n"
   ]
  },
  {
   "cell_type": "code",
   "execution_count": 3,
   "metadata": {},
   "outputs": [
    {
     "name": "stdout",
     "output_type": "stream",
     "text": [
      "[0, 0, 3332, 0, 0, 0, 7730, 0, 0, 0, 6787, 0, 0, 0, 0, 0, 0, 0, 0, 0]\n",
      "---------------------\n",
      "[0, 0, 21037, 0, 0, 0, 0, 0, 0, 0, 0, 0, 0, 0, 0, 0, 0, 0, 0, 0]\n",
      "---------------------\n",
      "[0, 0, 0, 0, 0, 0, 0, 0, 0, 0, 2232, 0, 0, 0, 0, 0, 0, 0, 0, 0]\n",
      "---------------------\n",
      "[0, 0, 2630, 0, 0, 0, 0, 0, 0, 0, 0, 0, 0, 0, 0, 0, 0, 0, 0, 0]\n",
      "---------------------\n"
     ]
    }
   ],
   "source": [
    "pathes = ['data/train/arrhythmia', 'data/train/normal', 'data/validation/arrhythmia', 'data/validation/normal']\n",
    "\n",
    "# files = []\n",
    "# for path in pathes:\n",
    "#     files += os.listdir(path)\n",
    "\n",
    "\n",
    "for i in range(4):\n",
    "\n",
    "    files = []\n",
    "    files += os.listdir(pathes[i])\n",
    "\n",
    "    count = [0] * 20\n",
    "\n",
    "    for file in files:\n",
    "        tmp = test(pathes[i] + '/' + file)\n",
    "        if tmp < 15:\n",
    "            count[tmp] = count[tmp]  + 1\n",
    "    print(count)\n",
    "\n",
    "    print('---------------------')\n",
    "\n",
    "\n",
    "\n",
    "# files = []\n",
    "# files += os.listdir(pathes[1])\n",
    "\n",
    "# sev = 0\n",
    "# one = 0\n",
    "# for file in files:\n",
    "#     if  test('data/data/train/normal/' + file):\n",
    "#         sev +=1\n",
    "#     else:\n",
    "#         one+=1\n",
    "# print(sev)\n",
    "# print(one)\n",
    "\n",
    "# print('---------------------')\n",
    "\n",
    "\n",
    "# files = []\n",
    "# files += os.listdir(pathes[2])\n",
    "\n",
    "# sev = 0\n",
    "# one = 0\n",
    "# for file in files:\n",
    "#     if  test('data/data/validation/arrhythmia/' + file):\n",
    "#         sev +=1\n",
    "#     else:\n",
    "#         one+=1\n",
    "# print(sev)\n",
    "# print(one)\n",
    "\n",
    "# print('---------------------')\n",
    "\n",
    "# files = []\n",
    "# files += os.listdir(pathes[3])\n",
    "\n",
    "# sev = 0\n",
    "# one = 0\n",
    "# for file in files:\n",
    "#     if  test('data/data/validation/normal/' + file):\n",
    "#         sev +=1\n",
    "#     else:\n",
    "#         one+=1\n",
    "# print(sev)\n",
    "# print(one)\n",
    "\n",
    "# print('---------------------')\n",
    "\n",
    "# files = []\n",
    "# files += os.listdir(pathes[0])\n",
    "\n",
    "# print(len(files))\n",
    "# print(len(list(filter(lambda x: x[0] == '5' , files))))\n",
    "# print(len(list(filter(lambda x: x[0] == '6' , files))))\n",
    "# print(len(list(filter(lambda x: x[0] == '8' , files))))\n",
    "\n",
    "\n",
    "\n",
    "# print('---------------------')\n",
    "\n",
    "# files = []\n",
    "# files += os.listdir(pathes[1])\n",
    "\n",
    "# print(len(files))\n",
    "# print(len(list(filter(lambda x: x[0] == '5' , files))))\n",
    "# print(len(list(filter(lambda x: x[0] == '6' , files))))\n",
    "# print(len(list(filter(lambda x: x[0] == '8' , files))))\n",
    "\n",
    "# print('---------------------')\n",
    "# files = []\n",
    "# files += os.listdir(pathes[2])\n",
    "\n",
    "# print(len(files))\n",
    "# print(len(list(filter(lambda x: x[0] == '5' , files))))\n",
    "# print(len(list(filter(lambda x: x[0] == '6' , files))))\n",
    "# print(len(list(filter(lambda x: x[0] == '8' , files))))\n",
    "\n",
    "# print('---------------------')\n",
    "# files = []\n",
    "# files += os.listdir(pathes[3])\n",
    "\n",
    "# print(len(files))\n",
    "# print(len(list(filter(lambda x: x[0] == '5' , files))))\n",
    "# print(len(list(filter(lambda x: x[0] == '6' , files))))\n",
    "# print(len(list(filter(lambda x: x[0] == '8' , files))))\n",
    "\n",
    "# print('---------------------')\n",
    "\n"
   ]
  },
  {
   "cell_type": "code",
   "execution_count": 4,
   "metadata": {},
   "outputs": [],
   "source": [
    "import xmltodict\n",
    "\n",
    "path_5 = 'data/train/arrhythmia/5_2_000436_ecg.xml'\n",
    "with open(path_5, 'rb') as xml:\n",
    "    ECG_5 = xmltodict.parse(xml.read().decode('utf8'))\n",
    "\n",
    "path_6 = 'data/train/arrhythmia/6_2_000385_ecg.xml'\n",
    "with open(path_6, 'rb') as xml:\n",
    "    ECG_6 = xmltodict.parse(xml.read().decode('utf8'))\n",
    "\n",
    "path_8 = 'data/validation/arrhythmia/8_2_009000_ecg.xml'\n",
    "with open(path_8, 'rb') as xml:\n",
    "    ECG_8 = xmltodict.parse(xml.read().decode('utf8'))\n",
    "    "
   ]
  },
  {
   "cell_type": "code",
   "execution_count": 5,
   "metadata": {},
   "outputs": [
    {
     "data": {
      "text/plain": [
       "collections.OrderedDict"
      ]
     },
     "execution_count": 5,
     "metadata": {},
     "output_type": "execute_result"
    }
   ],
   "source": [
    "type(ECG_5)"
   ]
  },
  {
   "cell_type": "code",
   "execution_count": 6,
   "metadata": {},
   "outputs": [
    {
     "name": "stdout",
     "output_type": "stream",
     "text": [
      "odict_keys(['RestingECG'])\n"
     ]
    }
   ],
   "source": [
    "print(ECG_5.keys())"
   ]
  },
  {
   "cell_type": "code",
   "execution_count": 7,
   "metadata": {},
   "outputs": [
    {
     "name": "stdout",
     "output_type": "stream",
     "text": [
      "odict_keys(['PatientDemographics', 'Waveform'])\n"
     ]
    }
   ],
   "source": [
    "print(ECG_5['RestingECG'].keys())"
   ]
  },
  {
   "cell_type": "code",
   "execution_count": 8,
   "metadata": {},
   "outputs": [
    {
     "name": "stdout",
     "output_type": "stream",
     "text": [
      "odict_keys(['PatientID'])\n",
      "OrderedDict([('PatientID', '000436')])\n"
     ]
    }
   ],
   "source": [
    "print(ECG_5['RestingECG']['PatientDemographics'].keys())\n",
    "print(ECG_5['RestingECG']['PatientDemographics'])"
   ]
  },
  {
   "cell_type": "code",
   "execution_count": 9,
   "metadata": {},
   "outputs": [
    {
     "name": "stdout",
     "output_type": "stream",
     "text": [
      "2\n",
      "6\n",
      "10\n",
      "<class 'list'>\n",
      "<class 'collections.OrderedDict'>\n",
      "<class 'collections.OrderedDict'>\n"
     ]
    }
   ],
   "source": [
    "print(len(ECG_5['RestingECG']['Waveform']))\n",
    "print(len(ECG_6['RestingECG']['Waveform']))\n",
    "print(len(ECG_8['RestingECG']['Waveform']))\n",
    "\n",
    "print(type(ECG_5['RestingECG']['Waveform']))\n",
    "print(type(ECG_6['RestingECG']['Waveform']))\n",
    "print(type(ECG_8['RestingECG']['Waveform']))\n",
    "\n"
   ]
  },
  {
   "cell_type": "code",
   "execution_count": 10,
   "metadata": {},
   "outputs": [
    {
     "name": "stdout",
     "output_type": "stream",
     "text": [
      "odict_keys(['WaveformType', 'WaveformStartTime', 'NumberofLeads', 'SampleType', 'SampleBase', 'SampleExponent', 'HighPassFilter', 'LowPassFilter', 'ACFilter', 'LeadData'])\n",
      "odict_keys(['WaveformType', 'WaveformStartTime', 'NumberofLeads', 'SampleType', 'SampleBase', 'SampleExponent', 'HighPassFilter', 'LowPassFilter', 'ACFilter', 'LeadData'])\n",
      "odict_keys(['NumberofLeads', 'SampleBase', 'HighPassFilter', 'LowPassFilter', 'ACFilter', 'LeadData'])\n",
      "odict_keys(['WaveformType', 'WaveformStartTime', 'NumberofLeads', 'SampleType', 'SampleBase', 'SampleExponent', 'HighPassFilter', 'LowPassFilter', 'ACFilter', 'LeadData'])\n"
     ]
    }
   ],
   "source": [
    "## 5번 데이터는 Waveform안에 두개의 리스트가 있고 그안에 waveform 두개가 있다는 사실....\n",
    "#print(ECG_5['RestingECG']['Waveform'])\n",
    "print(ECG_5['RestingECG']['Waveform'][0].keys())\n",
    "print(ECG_5['RestingECG']['Waveform'][1].keys())\n",
    "print(ECG_6['RestingECG']['Waveform'].keys())\n",
    "print(ECG_8['RestingECG']['Waveform'].keys())\n",
    "\n",
    "\n",
    "## 5번과 8번의 타입은 같다 : \n"
   ]
  },
  {
   "cell_type": "code",
   "execution_count": 11,
   "metadata": {},
   "outputs": [
    {
     "name": "stdout",
     "output_type": "stream",
     "text": [
      "WaveformType Median\n",
      "WaveformStartTime 0\n",
      "NumberofLeads 8\n",
      "SampleType CONTINUOUS_SAMPLES\n",
      "SampleBase 500\n",
      "SampleExponent 0\n",
      "HighPassFilter 16\n",
      "LowPassFilter 150\n",
      "ACFilter 60\n"
     ]
    }
   ],
   "source": [
    "for key, val in ECG_5['RestingECG']['Waveform'][0].items():\n",
    "    if key == 'LeadData':\n",
    "        continue\n",
    "    print(key, val)\n",
    "\n"
   ]
  },
  {
   "cell_type": "code",
   "execution_count": 12,
   "metadata": {},
   "outputs": [
    {
     "name": "stdout",
     "output_type": "stream",
     "text": [
      "WaveformType Rhythm\n",
      "WaveformStartTime 0\n",
      "NumberofLeads 8\n",
      "SampleType CONTINUOUS_SAMPLES\n",
      "SampleBase 500\n",
      "SampleExponent 0\n",
      "HighPassFilter 16\n",
      "LowPassFilter 150\n",
      "ACFilter 60\n"
     ]
    }
   ],
   "source": [
    "for key, val in ECG_5['RestingECG']['Waveform'][1].items():\n",
    "    if key == 'LeadData':\n",
    "        continue\n",
    "    print(key, val)"
   ]
  },
  {
   "cell_type": "code",
   "execution_count": 13,
   "metadata": {},
   "outputs": [
    {
     "name": "stdout",
     "output_type": "stream",
     "text": [
      "NumberofLeads 12\n",
      "SampleBase 500\n",
      "HighPassFilter None\n",
      "LowPassFilter None\n",
      "ACFilter None\n"
     ]
    }
   ],
   "source": [
    "for key, val in ECG_6['RestingECG']['Waveform'].items():\n",
    "    if key == 'LeadData':\n",
    "        continue\n",
    "    print(key, val)\n",
    "\n"
   ]
  },
  {
   "cell_type": "code",
   "execution_count": 14,
   "metadata": {},
   "outputs": [
    {
     "name": "stdout",
     "output_type": "stream",
     "text": [
      "WaveformType Rhythm\n",
      "WaveformStartTime 0\n",
      "NumberofLeads 8\n",
      "SampleType CONTINUOUS_SAMPLES\n",
      "SampleBase 500\n",
      "SampleExponent 0\n",
      "HighPassFilter 16\n",
      "LowPassFilter 150\n",
      "ACFilter 60\n"
     ]
    }
   ],
   "source": [
    "for key, val in ECG_8['RestingECG']['Waveform'].items():\n",
    "    if key == 'LeadData':\n",
    "        continue\n",
    "    print(key, val)\n",
    "\n"
   ]
  },
  {
   "cell_type": "code",
   "execution_count": 15,
   "metadata": {},
   "outputs": [
    {
     "name": "stdout",
     "output_type": "stream",
     "text": [
      "<class 'list'>\n",
      "<class 'collections.OrderedDict'>\n",
      "odict_keys(['LeadByteCountTotal', 'LeadTimeOffset', 'LeadSampleCountTotal', 'LeadAmplitudeUnitsPerBit', 'LeadAmplitudeUnits', 'LeadHighLimit', 'LeadLowLimit', 'LeadID', 'LeadOffsetFirstSample', 'FirstSampleBaseline', 'LeadSampleSize', 'LeadOff', 'BaselineSway', 'ExcessiveACNoise', 'MuscleNoise', 'LeadDataCRC32', 'WaveFormData'])\n"
     ]
    }
   ],
   "source": [
    "print(type(ECG_8['RestingECG']['Waveform']['LeadData']))\n",
    "print(type(ECG_8['RestingECG']['Waveform']['LeadData'][0]))\n",
    "print(ECG_8['RestingECG']['Waveform']['LeadData'][0].keys())"
   ]
  },
  {
   "cell_type": "code",
   "execution_count": 16,
   "metadata": {},
   "outputs": [
    {
     "name": "stdout",
     "output_type": "stream",
     "text": [
      "LeadByteCountTotal 10000\n",
      "LeadTimeOffset 0\n",
      "LeadSampleCountTotal 5000\n",
      "LeadAmplitudeUnitsPerBit 4.88\n",
      "LeadAmplitudeUnits MICROVOLTS\n",
      "LeadHighLimit 2147483647\n",
      "LeadLowLimit 268435456\n",
      "LeadID I\n",
      "LeadOffsetFirstSample 0\n",
      "FirstSampleBaseline 0\n",
      "LeadSampleSize 2\n",
      "LeadOff FALSE\n",
      "BaselineSway FALSE\n",
      "ExcessiveACNoise FALSE\n",
      "MuscleNoise FALSE\n",
      "LeadDataCRC32 1279242682\n"
     ]
    }
   ],
   "source": [
    "for key, val in ECG_8['RestingECG']['Waveform']['LeadData'][0].items():\n",
    "    if key == 'WaveFormData':\n",
    "        continue\n",
    "    print(key, val)"
   ]
  },
  {
   "cell_type": "code",
   "execution_count": 17,
   "metadata": {},
   "outputs": [],
   "source": [
    "# 5번과 8번은 I, II, V1 ~ V6 까지 8개의 lead가 존재한다."
   ]
  },
  {
   "cell_type": "code",
   "execution_count": 18,
   "metadata": {},
   "outputs": [
    {
     "name": "stdout",
     "output_type": "stream",
     "text": [
      "I\n",
      "II\n",
      "V1\n",
      "V2\n",
      "V3\n",
      "V4\n",
      "V5\n",
      "V6\n"
     ]
    }
   ],
   "source": [
    "for lead in ECG_8['RestingECG']['Waveform']['LeadData']:\n",
    "    print(lead['LeadID'])\n",
    "    "
   ]
  },
  {
   "cell_type": "code",
   "execution_count": 19,
   "metadata": {},
   "outputs": [
    {
     "name": "stdout",
     "output_type": "stream",
     "text": [
      "I\n",
      "II\n",
      "III\n",
      "aVR\n",
      "aVL\n",
      "aVF\n",
      "V1\n",
      "V2\n",
      "V3\n",
      "V4\n",
      "V5\n",
      "V6\n"
     ]
    }
   ],
   "source": [
    "for lead in ECG_6['RestingECG']['Waveform']['LeadData']:\n",
    "    print(lead['LeadID'])"
   ]
  },
  {
   "cell_type": "code",
   "execution_count": 20,
   "metadata": {},
   "outputs": [],
   "source": [
    "path = 'data/validation/arrhythmia/8_2_009000_ecg.xml'\n",
    "ecg = ECGReader.Reader(path, augmentLeads=True)\n",
    "vol = ecg.getAllVoltages()"
   ]
  },
  {
   "cell_type": "code",
   "execution_count": 21,
   "metadata": {},
   "outputs": [
    {
     "name": "stdout",
     "output_type": "stream",
     "text": [
      "<class 'NoneType'>\n"
     ]
    },
    {
     "ename": "AttributeError",
     "evalue": "'NoneType' object has no attribute 'items'",
     "output_type": "error",
     "traceback": [
      "\u001b[0;31m---------------------------------------------------------------------------\u001b[0m",
      "\u001b[0;31mAttributeError\u001b[0m                            Traceback (most recent call last)",
      "\u001b[0;32m/tmp/ipykernel_13008/3180954406.py\u001b[0m in \u001b[0;36m<module>\u001b[0;34m\u001b[0m\n\u001b[1;32m      1\u001b[0m \u001b[0mprint\u001b[0m\u001b[0;34m(\u001b[0m\u001b[0mtype\u001b[0m\u001b[0;34m(\u001b[0m\u001b[0mvol\u001b[0m\u001b[0;34m)\u001b[0m\u001b[0;34m)\u001b[0m\u001b[0;34m\u001b[0m\u001b[0;34m\u001b[0m\u001b[0m\n\u001b[0;32m----> 2\u001b[0;31m \u001b[0;32mfor\u001b[0m \u001b[0mkey\u001b[0m\u001b[0;34m,\u001b[0m \u001b[0mval\u001b[0m \u001b[0;32min\u001b[0m \u001b[0mvol\u001b[0m\u001b[0;34m.\u001b[0m\u001b[0mitems\u001b[0m\u001b[0;34m(\u001b[0m\u001b[0;34m)\u001b[0m\u001b[0;34m:\u001b[0m\u001b[0;34m\u001b[0m\u001b[0;34m\u001b[0m\u001b[0m\n\u001b[0m\u001b[1;32m      3\u001b[0m     \u001b[0mprint\u001b[0m\u001b[0;34m(\u001b[0m\u001b[0mkey\u001b[0m\u001b[0;34m,\u001b[0m \u001b[0mlen\u001b[0m\u001b[0;34m(\u001b[0m\u001b[0mval\u001b[0m\u001b[0;34m)\u001b[0m\u001b[0;34m)\u001b[0m\u001b[0;34m\u001b[0m\u001b[0;34m\u001b[0m\u001b[0m\n",
      "\u001b[0;31mAttributeError\u001b[0m: 'NoneType' object has no attribute 'items'"
     ]
    }
   ],
   "source": [
    "print(type(vol))\n",
    "for key, val in vol.items():\n",
    "    print(key, len(val))"
   ]
  },
  {
   "cell_type": "code",
   "execution_count": 22,
   "metadata": {},
   "outputs": [
    {
     "name": "stdout",
     "output_type": "stream",
     "text": [
      "LeadSampleCountTotal 5000\n",
      "LeadAmplitudeUnitsPerBit -10\n",
      "LeadAmplitudeUnits MICROVOLTS\n",
      "LeadID I\n",
      "LeadSampleSize 2\n"
     ]
    }
   ],
   "source": [
    "#여기서 부터 추가\n",
    "for key, val in ECG_6['RestingECG']['Waveform']['LeadData'][0].items():\n",
    "    if key == 'WaveFormData':\n",
    "        continue\n",
    "    print(key, val)"
   ]
  },
  {
   "cell_type": "code",
   "execution_count": 23,
   "metadata": {},
   "outputs": [
    {
     "name": "stdout",
     "output_type": "stream",
     "text": [
      "LeadByteCountTotal 10000\n",
      "LeadTimeOffset 0\n",
      "LeadSampleCountTotal 5000\n",
      "LeadAmplitudeUnitsPerBit 4.88\n",
      "LeadAmplitudeUnits MICROVOLTS\n",
      "LeadHighLimit 32767\n",
      "LeadLowLimit -32768\n",
      "LeadID I\n",
      "LeadOffsetFirstSample 0\n",
      "FirstSampleBaseline 0\n",
      "LeadSampleSize 2\n",
      "LeadOff FALSE\n",
      "BaselineSway FALSE\n",
      "LeadDataCRC32 2370732862\n"
     ]
    }
   ],
   "source": [
    "for key, val in ECG_5['RestingECG']['Waveform'][1]['LeadData'][0].items():\n",
    "    if key == 'WaveFormData':\n",
    "        continue\n",
    "    print(key, val)"
   ]
  },
  {
   "cell_type": "code",
   "execution_count": 24,
   "metadata": {},
   "outputs": [
    {
     "name": "stdout",
     "output_type": "stream",
     "text": [
      "LeadByteCountTotal 10000\n",
      "LeadTimeOffset 0\n",
      "LeadSampleCountTotal 5000\n",
      "LeadAmplitudeUnitsPerBit 4.88\n",
      "LeadAmplitudeUnits MICROVOLTS\n",
      "LeadHighLimit 2147483647\n",
      "LeadLowLimit 268435456\n",
      "LeadID I\n",
      "LeadOffsetFirstSample 0\n",
      "FirstSampleBaseline 0\n",
      "LeadSampleSize 2\n",
      "LeadOff FALSE\n",
      "BaselineSway FALSE\n",
      "ExcessiveACNoise FALSE\n",
      "MuscleNoise FALSE\n",
      "LeadDataCRC32 1279242682\n"
     ]
    }
   ],
   "source": [
    "for key, val in ECG_8['RestingECG']['Waveform']['LeadData'][0].items():\n",
    "    if key == 'WaveFormData':\n",
    "        continue\n",
    "    print(key, val)"
   ]
  },
  {
   "cell_type": "code",
   "execution_count": 25,
   "metadata": {},
   "outputs": [],
   "source": [
    "#5,6,8 LeadData내에 공통으로 가지고있는 key LeadSampleCountTotal, LeadAmplitudeUnitsPerBit, LeadAmplitudeUnits, LeadID, LeadSampleSize\n",
    "#LeadID제외(이미사용)\n",
    "#각 key는 가지고 있는 lead가 모두 같음(EDG8 lead수 8개 -> 모두 동일 값)\n",
    "#LeadAmplitudeUnitsPerBit 가 EDG6만 -10"
   ]
  },
  {
   "cell_type": "code",
   "execution_count": 85,
   "metadata": {},
   "outputs": [],
   "source": [
    "def get_lead(path):\n",
    "    with open(path, 'rb') as xml:\n",
    "        ECG = xmltodict.parse(xml.read().decode('utf8'))\n",
    "    \n",
    "    augmentLeads = True\n",
    "    if path.split('/')[-1][0] == '5':\n",
    "        waveforms = ECG['RestingECG']['Waveform'][1]\n",
    "    elif path.split('/')[-1][0] == '6':\n",
    "        waveforms = ECG['RestingECG']['Waveform']\n",
    "        augmentLeads = False\n",
    "    else:\n",
    "        waveforms = ECG['RestingECG']['Waveform']\n",
    "    \n",
    "    leads = {}\n",
    "    \n",
    "    for lead in waveforms['LeadData']:\n",
    "        lead_data1 = lead['LeadSampleCountTotal']\n",
    "        lead_data2 = lead['LeadAmplitudeUnitsPerBit']\n",
    "        lead_data3 = lead['LeadAmplitudeUnits']\n",
    "        lead_data4 = lead['LeadSampleSize']\n",
    "            \n",
    "    return lead_data1, lead_data2, lead_data3, lead_data4"
   ]
  },
  {
   "cell_type": "code",
   "execution_count": 86,
   "metadata": {},
   "outputs": [
    {
     "name": "stdout",
     "output_type": "stream",
     "text": [
      "['5000']\n",
      "['-10', '4.88', '5']\n",
      "['MICROVOLTS']\n",
      "['2']\n"
     ]
    }
   ],
   "source": [
    "error_train = ['6_2_003469_ecg.xml', '6_2_003618_ecg.xml', '6_2_005055_ecg.xml', '8_2_001879_ecg.xml', '8_2_002164_ecg.xml']\n",
    "error_valid = ['8_2_007281_ecg.xml', '8_2_008783_ecg.xml', '8_2_007226_ecg.xml']\n",
    "\n",
    "\n",
    "train_data = []\n",
    "train_labels = []\n",
    "valid_data = []\n",
    "valid_labels = []\n",
    "\n",
    "\n",
    "train_pathes = ['data/train/arrhythmia/', 'data/train/normal/']\n",
    "valid_pathes = ['data/validation/arrhythmia/', 'data/validation/normal/']\n",
    "\n",
    "error_decode = []   # 디코딩에 실패한 데이터들..\n",
    "# error_len = [] # 5000, 4999개를 맞추지 못한 데이터들.. 혹은 12개의 lead가 아닌것들..\n",
    "\n",
    "# train data\n",
    "result1=[]\n",
    "result2=[]\n",
    "result3=[]\n",
    "result4=[]\n",
    "\n",
    "for path in train_pathes:\n",
    "    for file in os.listdir(path):\n",
    "        \n",
    "        if file in error_train:\n",
    "            continue\n",
    "        \n",
    "        try:\n",
    "            data1, data2, data3, data4 = get_lead(path + file)\n",
    "        except Exception as e:\n",
    "            error_decode.append(path + file)\n",
    "        \n",
    "        if(result1.count(data1)==0):\n",
    "            result1.append(data1)\n",
    "        if(result2.count(data2)==0):\n",
    "            result2.append(data2)\n",
    "        if(result3.count(data3)==0):\n",
    "            result3.append(data3)\n",
    "        if(result4.count(data4)==0):\n",
    "            result4.append(data4)\n",
    "        \n",
    "print(result1)\n",
    "print(result2)\n",
    "print(result3)\n",
    "print(result4)       "
   ]
  },
  {
   "cell_type": "code",
   "execution_count": 52,
   "metadata": {},
   "outputs": [],
   "source": [
    "#LeadAmplitudeUnitsPerBit가 각각 얼마나 가지는 지 확인\n",
    "def get_lead2(path):\n",
    "    with open(path, 'rb') as xml:\n",
    "        ECG = xmltodict.parse(xml.read().decode('utf8'))\n",
    "    \n",
    "    augmentLeads = True\n",
    "    if path.split('/')[-1][0] == '5':\n",
    "        waveforms = ECG['RestingECG']['Waveform'][1]\n",
    "    elif path.split('/')[-1][0] == '6':\n",
    "        waveforms = ECG['RestingECG']['Waveform']\n",
    "        augmentLeads = False\n",
    "    else:\n",
    "        waveforms = ECG['RestingECG']['Waveform']\n",
    "    \n",
    "    leads = {}\n",
    "    \n",
    "    for lead in waveforms['LeadData']:\n",
    "        lead_data2 = lead['LeadAmplitudeUnitsPerBit']\n",
    "            \n",
    "    return lead_data2"
   ]
  },
  {
   "cell_type": "code",
   "execution_count": 108,
   "metadata": {},
   "outputs": [
    {
     "name": "stdout",
     "output_type": "stream",
     "text": [
      "5096\n",
      "31154\n",
      "2631\n"
     ]
    }
   ],
   "source": [
    "error_train = ['6_2_003469_ecg.xml', '6_2_003618_ecg.xml', '6_2_005055_ecg.xml', '8_2_001879_ecg.xml', '8_2_002164_ecg.xml']\n",
    "error_valid = ['8_2_007281_ecg.xml', '8_2_008783_ecg.xml', '8_2_007226_ecg.xml']\n",
    "\n",
    "\n",
    "train_data = []\n",
    "train_labels = []\n",
    "valid_data = []\n",
    "valid_labels = []\n",
    "\n",
    "\n",
    "train_pathes = ['data/train/arrhythmia/', 'data/train/normal/']\n",
    "valid_pathes = ['data/validation/arrhythmia/', 'data/validation/normal/']\n",
    "\n",
    "error_decode = []   # 디코딩에 실패한 데이터들..\n",
    "# error_len = [] # 5000, 4999개를 맞추지 못한 데이터들.. 혹은 12개의 lead가 아닌것들..\n",
    "\n",
    "# train data\n",
    "bit_10=0\n",
    "bit_4=0\n",
    "bit_5=0\n",
    "\n",
    "for path in train_pathes:\n",
    "    for file in os.listdir(path):\n",
    "        \n",
    "        if file in error_train:\n",
    "            continue\n",
    "        \n",
    "        try:\n",
    "            data1 = get_lead2(path + file)\n",
    "        except Exception as e:\n",
    "            error_decode.append(path + file)\n",
    "        \n",
    "        if(data1=='-10'):\n",
    "            bit_10+=1\n",
    "        elif(data1=='4.88'):\n",
    "            bit_4+=1\n",
    "        else:\n",
    "            bit_5+=1\n",
    "print(bit_10)\n",
    "print(bit_4)\n",
    "print(bit_5)     "
   ]
  },
  {
   "cell_type": "code",
   "execution_count": 55,
   "metadata": {},
   "outputs": [],
   "source": [
    "#waveform 데이터 확인"
   ]
  },
  {
   "cell_type": "code",
   "execution_count": 56,
   "metadata": {},
   "outputs": [
    {
     "name": "stdout",
     "output_type": "stream",
     "text": [
      "WaveformType Rhythm\n",
      "WaveformStartTime 0\n",
      "NumberofLeads 8\n",
      "SampleType CONTINUOUS_SAMPLES\n",
      "SampleBase 500\n",
      "SampleExponent 0\n",
      "HighPassFilter 16\n",
      "LowPassFilter 150\n",
      "ACFilter 60\n"
     ]
    }
   ],
   "source": [
    "for key, val in ECG_8['RestingECG']['Waveform'].items():\n",
    "    if key == 'LeadData':\n",
    "        continue\n",
    "    print(key, val)"
   ]
  },
  {
   "cell_type": "code",
   "execution_count": 57,
   "metadata": {},
   "outputs": [
    {
     "name": "stdout",
     "output_type": "stream",
     "text": [
      "NumberofLeads 12\n",
      "SampleBase 500\n",
      "HighPassFilter None\n",
      "LowPassFilter None\n",
      "ACFilter None\n"
     ]
    }
   ],
   "source": [
    "for key, val in ECG_6['RestingECG']['Waveform'].items():\n",
    "    if key == 'LeadData':\n",
    "        continue\n",
    "    print(key, val)\n"
   ]
  },
  {
   "cell_type": "code",
   "execution_count": 92,
   "metadata": {},
   "outputs": [
    {
     "name": "stdout",
     "output_type": "stream",
     "text": [
      "WaveformType Rhythm\n",
      "WaveformStartTime 0\n",
      "NumberofLeads 8\n",
      "SampleType CONTINUOUS_SAMPLES\n",
      "SampleBase 500\n",
      "SampleExponent 0\n",
      "HighPassFilter 16\n",
      "LowPassFilter 150\n",
      "ACFilter 60\n"
     ]
    }
   ],
   "source": [
    "for key, val in ECG_5['RestingECG']['Waveform'][1].items():\n",
    "    if key == 'LeadData':\n",
    "        continue\n",
    "    print(key, val)"
   ]
  },
  {
   "cell_type": "code",
   "execution_count": 113,
   "metadata": {},
   "outputs": [
    {
     "name": "stdout",
     "output_type": "stream",
     "text": [
      "60\n"
     ]
    }
   ],
   "source": [
    "#공통으로 가지고 있는 key NumberofLeads, SampleBase, HighPassFilter, LowPassFilter, ACFilter\n",
    "#ACF [[6, None], [5, 'NONE'], [8, '60'], [5, '60']]의 값을 가짐 [5,\"60\"]=> ECG5에 속하고 ACFilter가 60임을 의미 -> 별의미 없어보입니다.\n",
    "#NumberofLeads [[6, '12'], [5, '8'], [8, '8'], [6, '11']]의 값을 가짐 => ECG6에 속하는 애중 lead의 수가 11인 애가 있어보임 ->밑에 찾아 정리해놨습니다.\n",
    "#SampleBase 500으로 모두 동일\n",
    "#HighPassFilter 6은 None로 동일, 8은 16으로 동일, 5는 3가지 존재\n",
    "#LowPassFilter 6은 None로 동일, 8은 150으로 동일, 5는 2가지 존재\n",
    "print(ECG_5['RestingECG']['Waveform'][1]['ACFilter'])"
   ]
  },
  {
   "cell_type": "code",
   "execution_count": 148,
   "metadata": {},
   "outputs": [],
   "source": [
    "def get_lead3(path):\n",
    "    with open(path, 'rb') as xml:\n",
    "        ECG = xmltodict.parse(xml.read().decode('utf8'))\n",
    "    \n",
    "    augmentLeads = True\n",
    "    if path.split('/')[-1][0] == '5':\n",
    "        waveforms = ECG['RestingECG']['Waveform'][1]\n",
    "        lead_data1=[5]\n",
    "        lead_data2=[5]\n",
    "        lead_data3=[5]\n",
    "    elif path.split('/')[-1][0] == '6':\n",
    "        waveforms = ECG['RestingECG']['Waveform']\n",
    "        augmentLeads = False\n",
    "        lead_data1=[6]\n",
    "        lead_data2=[6]\n",
    "        lead_data3=[6]\n",
    "    else:\n",
    "        waveforms = ECG['RestingECG']['Waveform']\n",
    "        lead_data1=[8]\n",
    "        lead_data2=[8]\n",
    "        lead_data3=[8]\n",
    "    \n",
    "    leads = {}\n",
    "    \n",
    "    lead_data1.append(waveforms['NumberofLeads'])\n",
    "    lead_data2.append(waveforms['HighPassFilter'])\n",
    "    lead_data3.append(waveforms['LowPassFilter'])\n",
    "    \n",
    "    return lead_data1,lead_data2,lead_data3"
   ]
  },
  {
   "cell_type": "code",
   "execution_count": 149,
   "metadata": {},
   "outputs": [
    {
     "data": {
      "text/plain": [
       "([5, '8'], [5, '16'], [5, '150'])"
      ]
     },
     "execution_count": 149,
     "metadata": {},
     "output_type": "execute_result"
    }
   ],
   "source": [
    "#함수를 제대로 작성했는지 확인용도로 사용\n",
    "get_lead3('data/train/arrhythmia/5_2_000436_ecg.xml')"
   ]
  },
  {
   "cell_type": "code",
   "execution_count": 150,
   "metadata": {},
   "outputs": [
    {
     "name": "stdout",
     "output_type": "stream",
     "text": [
      "[[6, '12'], [5, '8'], [8, '8'], [6, '11']]\n",
      "[[6, None], [5, '16'], [8, '16'], [5, '56'], [5, '1']]\n",
      "[[6, None], [5, '150'], [8, '150'], [5, '40']]\n"
     ]
    }
   ],
   "source": [
    "error_train = ['6_2_003469_ecg.xml', '6_2_003618_ecg.xml', '6_2_005055_ecg.xml', '8_2_001879_ecg.xml', '8_2_002164_ecg.xml']\n",
    "error_valid = ['8_2_007281_ecg.xml', '8_2_008783_ecg.xml', '8_2_007226_ecg.xml']\n",
    "\n",
    "\n",
    "train_data = []\n",
    "train_labels = []\n",
    "valid_data = []\n",
    "valid_labels = []\n",
    "\n",
    "\n",
    "train_pathes = ['data/train/arrhythmia/', 'data/train/normal/']\n",
    "valid_pathes = ['data/validation/arrhythmia/', 'data/validation/normal/']\n",
    "\n",
    "error_decode = []   # 디코딩에 실패한 데이터들..\n",
    "# error_len = [] # 5000, 4999개를 맞추지 못한 데이터들.. 혹은 12개의 lead가 아닌것들..\n",
    "\n",
    "# train data\n",
    "result1=[]\n",
    "result2=[]\n",
    "result3=[]\n",
    "result4=[]\n",
    "\n",
    "for path in train_pathes:\n",
    "    for file in os.listdir(path):\n",
    "        \n",
    "        if file in error_train:\n",
    "            continue\n",
    "        \n",
    "        try:\n",
    "            data1, data2, data3 = get_lead3(path + file)\n",
    "        except Exception as e:\n",
    "            error_decode.append(path + file)\n",
    "        \n",
    "        if(result1.count(data1)==0):\n",
    "            result1.append(data1)\n",
    "        if(result2.count(data2)==0):\n",
    "            result2.append(data2)\n",
    "        if(result3.count(data3)==0):\n",
    "            result3.append(data3)\n",
    "\n",
    "        \n",
    "print(result1)\n",
    "print(result2)\n",
    "print(result3)\n",
    "#reuslt1->NumberofLeads\n",
    "#result2->HighPassFilter\n",
    "#result3->LowPassFilter"
   ]
  },
  {
   "cell_type": "code",
   "execution_count": 152,
   "metadata": {},
   "outputs": [],
   "source": [
    "#NumberofLeads의수가 11인 패스확인\n",
    "def get_lead4(path):\n",
    "    with open(path, 'rb') as xml:\n",
    "        ECG = xmltodict.parse(xml.read().decode('utf8'))\n",
    "    \n",
    "    augmentLeads = True\n",
    "    if path.split('/')[-1][0] == '5':\n",
    "        waveforms = ECG['RestingECG']['Waveform'][1]\n",
    "        lead_data1=[5]\n",
    "\n",
    "    elif path.split('/')[-1][0] == '6':\n",
    "        waveforms = ECG['RestingECG']['Waveform']\n",
    "        augmentLeads = False\n",
    "        lead_data1=[6]\n",
    "    else:\n",
    "        waveforms = ECG['RestingECG']['Waveform']\n",
    "        lead_data1=[8]\n",
    "    \n",
    "    leads = {}\n",
    "    \n",
    "    result=None\n",
    "    \n",
    "    if (waveforms['NumberofLeads'] =='11'):\n",
    "        result=path\n",
    "    \n",
    "    return result"
   ]
  },
  {
   "cell_type": "code",
   "execution_count": 154,
   "metadata": {},
   "outputs": [
    {
     "name": "stdout",
     "output_type": "stream",
     "text": [
      "['data/train/arrhythmia/6_2_004491_ecg.xml']\n"
     ]
    }
   ],
   "source": [
    "error_train = ['6_2_003469_ecg.xml', '6_2_003618_ecg.xml', '6_2_005055_ecg.xml', '8_2_001879_ecg.xml', '8_2_002164_ecg.xml']\n",
    "error_valid = ['8_2_007281_ecg.xml', '8_2_008783_ecg.xml', '8_2_007226_ecg.xml']\n",
    "\n",
    "\n",
    "train_data = []\n",
    "train_labels = []\n",
    "valid_data = []\n",
    "valid_labels = []\n",
    "\n",
    "\n",
    "train_pathes = ['data/train/arrhythmia/', 'data/train/normal/']\n",
    "valid_pathes = ['data/validation/arrhythmia/', 'data/validation/normal/']\n",
    "\n",
    "error_decode = []   # 디코딩에 실패한 데이터들..\n",
    "# error_len = [] # 5000, 4999개를 맞추지 못한 데이터들.. 혹은 12개의 lead가 아닌것들..\n",
    "\n",
    "# train data\n",
    "result1=[]\n",
    "result2=[]\n",
    "result3=[]\n",
    "result4=[]\n",
    "\n",
    "for path in train_pathes:\n",
    "    for file in os.listdir(path):\n",
    "        \n",
    "        if file in error_train:\n",
    "            continue\n",
    "        \n",
    "        try:\n",
    "            data1= get_lead4(path + file)\n",
    "        except Exception as e:\n",
    "            error_decode.append(path + file)\n",
    "        \n",
    "        if(data1!=None):\n",
    "            result1.append(data1)\n",
    "\n",
    "print(result1)\n"
   ]
  },
  {
   "cell_type": "code",
   "execution_count": 155,
   "metadata": {},
   "outputs": [],
   "source": [
    "#NumverofNum이 11인 데이터 'data/train/arrhythmia/6_2_004491_ecg.xml'한개 존재"
   ]
  },
  {
   "cell_type": "code",
   "execution_count": 157,
   "metadata": {},
   "outputs": [],
   "source": [
    "path_11 = 'data/train/arrhythmia/6_2_004491_ecg.xml'\n",
    "with open(path_11, 'rb') as xml:\n",
    "    ECG_11 = xmltodict.parse(xml.read().decode('utf8'))"
   ]
  },
  {
   "cell_type": "code",
   "execution_count": 158,
   "metadata": {},
   "outputs": [
    {
     "name": "stdout",
     "output_type": "stream",
     "text": [
      "I\n",
      "II\n",
      "III\n",
      "III\n",
      "aVL\n",
      "aVF\n",
      "V1\n",
      "V1\n",
      "V3\n",
      "V4\n",
      "V5\n"
     ]
    }
   ],
   "source": [
    "for lead in ECG_11['RestingECG']['Waveform']['LeadData']:\n",
    "    print(lead['LeadID'])"
   ]
  },
  {
   "cell_type": "code",
   "execution_count": 159,
   "metadata": {},
   "outputs": [
    {
     "name": "stdout",
     "output_type": "stream",
     "text": [
      "I\n",
      "II\n",
      "III\n",
      "aVR\n",
      "aVL\n",
      "aVF\n",
      "V1\n",
      "V2\n",
      "V3\n",
      "V4\n",
      "V5\n",
      "V6\n"
     ]
    }
   ],
   "source": [
    "for lead in ECG_6['RestingECG']['Waveform']['LeadData']:\n",
    "    print(lead['LeadID'])"
   ]
  },
  {
   "cell_type": "code",
   "execution_count": 160,
   "metadata": {},
   "outputs": [],
   "source": [
    "#aVR이 없음"
   ]
  },
  {
   "cell_type": "code",
   "execution_count": null,
   "metadata": {},
   "outputs": [],
   "source": []
  },
  {
   "cell_type": "markdown",
   "metadata": {},
   "source": [
    "# 데이터 길이 및 lead 개수 분석\n",
    "데이터의 길이 분포 확인: valid는 모두 5000인것을 확인\n",
    " \n",
    "train은 60912개가 4999, 36개가 1249, 1개가 4988\n",
    "\n",
    "위의 테스크는 먼저 4999개만 0의 패딩을 붙이고 나머지는 제외하는식으로 전처리함\n",
    "딱 한개의 9 lead의 데이터가 존재한다.."
   ]
  },
  {
   "cell_type": "markdown",
   "metadata": {},
   "source": [
    "## 데이터 시각화\n",
    "특정 데이터의 12개 lead를 모두 차트로 출력한다.  \n",
    "각 lead들은 Moving average로 Data Smoothing 과정을 거친다."
   ]
  },
  {
   "cell_type": "code",
   "execution_count": null,
   "metadata": {},
   "outputs": [],
   "source": [
    "import matplotlib.pyplot as plt\n",
    "\n",
    "def view_lead(leads):\n",
    "    size = 5 # window size\n",
    "    \n",
    "    for key, lead in leads.items():\n",
    "        amplitude = []\n",
    "        \n",
    "#         for i in range(0, len(lead), 5):\n",
    "#             amplitude[i+1:i+5] = (amplitude[i]+amplitude[min(len(lead)-1, i+5)])/2\n",
    "\n",
    "        ## Smoothing (Moving Average)\n",
    "        for i in range(size, len(lead)-size):\n",
    "            window = lead[i-size:i+size+1]\n",
    "            amplitude.append(sum(window)/len(window))\n",
    "        time = np.arange(0, len(amplitude))\n",
    "        \n",
    "        plt.figure(num=1, dpi=100, facecolor='white', figsize=(10,1), linewidth=5.0)\n",
    "        plt.plot(time, amplitude, color='blue', linewidth=0.5)\n",
    "        \n",
    "        ax = plt.gca()\n",
    "        ax.axes.xaxis.set_visible(False)\n",
    "        plt.show()\n",
    "\n",
    "        \n",
    "view_lead(data)"
   ]
  }
 ],
 "metadata": {
  "interpreter": {
   "hash": "b8463390df91424cbacf3d29d9f1723bc16c47483e72c29fc14877c8943b1f33"
  },
  "kernelspec": {
   "display_name": "Python 3",
   "language": "python",
   "name": "python3"
  },
  "language_info": {
   "codemirror_mode": {
    "name": "ipython",
    "version": 3
   },
   "file_extension": ".py",
   "mimetype": "text/x-python",
   "name": "python",
   "nbconvert_exporter": "python",
   "pygments_lexer": "ipython3",
   "version": "3.7.4"
  }
 },
 "nbformat": 4,
 "nbformat_minor": 4
}
